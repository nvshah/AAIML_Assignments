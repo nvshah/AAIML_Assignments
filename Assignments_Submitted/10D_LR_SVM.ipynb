{
 "cells": [
  {
   "cell_type": "markdown",
   "metadata": {
    "colab_type": "text",
    "id": "86Tvnj5UblTy"
   },
   "source": [
    "## Task-D: Collinear features and their effect on linear models"
   ]
  },
  {
   "cell_type": "code",
   "execution_count": 1,
   "metadata": {
    "colab": {},
    "colab_type": "code",
    "id": "qn_eOn2EblT3"
   },
   "outputs": [],
   "source": [
    "%matplotlib inline\n",
    "import warnings\n",
    "warnings.filterwarnings(\"ignore\")\n",
    "import pandas as pd\n",
    "import numpy as np\n",
    "from sklearn.datasets import load_iris\n",
    "from sklearn.linear_model import SGDClassifier\n",
    "from sklearn.model_selection import GridSearchCV\n",
    "import seaborn as sns\n",
    "import matplotlib.pyplot as plt\n",
    "\n",
    "from sklearn.model_selection import train_test_split"
   ]
  },
  {
   "cell_type": "code",
   "execution_count": 2,
   "metadata": {
    "colab": {},
    "colab_type": "code",
    "id": "VMoYWIayblUB"
   },
   "outputs": [],
   "source": [
    "data = pd.read_csv('task_d.csv')"
   ]
  },
  {
   "cell_type": "code",
   "execution_count": 3,
   "metadata": {
    "colab": {},
    "colab_type": "code",
    "id": "RfStXG4tblUI",
    "outputId": "ddf4eec6-7f53-4d28-914f-23133957d6d5"
   },
   "outputs": [
    {
     "data": {
      "text/html": [
       "<div>\n",
       "<style scoped>\n",
       "    .dataframe tbody tr th:only-of-type {\n",
       "        vertical-align: middle;\n",
       "    }\n",
       "\n",
       "    .dataframe tbody tr th {\n",
       "        vertical-align: top;\n",
       "    }\n",
       "\n",
       "    .dataframe thead th {\n",
       "        text-align: right;\n",
       "    }\n",
       "</style>\n",
       "<table border=\"1\" class=\"dataframe\">\n",
       "  <thead>\n",
       "    <tr style=\"text-align: right;\">\n",
       "      <th></th>\n",
       "      <th>x</th>\n",
       "      <th>y</th>\n",
       "      <th>z</th>\n",
       "      <th>x*x</th>\n",
       "      <th>2*y</th>\n",
       "      <th>2*z+3*x*x</th>\n",
       "      <th>w</th>\n",
       "      <th>target</th>\n",
       "    </tr>\n",
       "  </thead>\n",
       "  <tbody>\n",
       "    <tr>\n",
       "      <th>0</th>\n",
       "      <td>-0.581066</td>\n",
       "      <td>0.841837</td>\n",
       "      <td>-1.012978</td>\n",
       "      <td>-0.604025</td>\n",
       "      <td>0.841837</td>\n",
       "      <td>-0.665927</td>\n",
       "      <td>-0.536277</td>\n",
       "      <td>0</td>\n",
       "    </tr>\n",
       "    <tr>\n",
       "      <th>1</th>\n",
       "      <td>-0.894309</td>\n",
       "      <td>-0.207835</td>\n",
       "      <td>-1.012978</td>\n",
       "      <td>-0.883052</td>\n",
       "      <td>-0.207835</td>\n",
       "      <td>-0.917054</td>\n",
       "      <td>-0.522364</td>\n",
       "      <td>0</td>\n",
       "    </tr>\n",
       "    <tr>\n",
       "      <th>2</th>\n",
       "      <td>-1.207552</td>\n",
       "      <td>0.212034</td>\n",
       "      <td>-1.082312</td>\n",
       "      <td>-1.150918</td>\n",
       "      <td>0.212034</td>\n",
       "      <td>-1.166507</td>\n",
       "      <td>0.205738</td>\n",
       "      <td>0</td>\n",
       "    </tr>\n",
       "    <tr>\n",
       "      <th>3</th>\n",
       "      <td>-1.364174</td>\n",
       "      <td>0.002099</td>\n",
       "      <td>-0.943643</td>\n",
       "      <td>-1.280666</td>\n",
       "      <td>0.002099</td>\n",
       "      <td>-1.266540</td>\n",
       "      <td>-0.665720</td>\n",
       "      <td>0</td>\n",
       "    </tr>\n",
       "    <tr>\n",
       "      <th>4</th>\n",
       "      <td>-0.737687</td>\n",
       "      <td>1.051772</td>\n",
       "      <td>-1.012978</td>\n",
       "      <td>-0.744934</td>\n",
       "      <td>1.051772</td>\n",
       "      <td>-0.792746</td>\n",
       "      <td>-0.735054</td>\n",
       "      <td>0</td>\n",
       "    </tr>\n",
       "  </tbody>\n",
       "</table>\n",
       "</div>"
      ],
      "text/plain": [
       "          x         y         z       x*x       2*y  2*z+3*x*x         w  \\\n",
       "0 -0.581066  0.841837 -1.012978 -0.604025  0.841837  -0.665927 -0.536277   \n",
       "1 -0.894309 -0.207835 -1.012978 -0.883052 -0.207835  -0.917054 -0.522364   \n",
       "2 -1.207552  0.212034 -1.082312 -1.150918  0.212034  -1.166507  0.205738   \n",
       "3 -1.364174  0.002099 -0.943643 -1.280666  0.002099  -1.266540 -0.665720   \n",
       "4 -0.737687  1.051772 -1.012978 -0.744934  1.051772  -0.792746 -0.735054   \n",
       "\n",
       "   target  \n",
       "0       0  \n",
       "1       0  \n",
       "2       0  \n",
       "3       0  \n",
       "4       0  "
      ]
     },
     "execution_count": 3,
     "metadata": {},
     "output_type": "execute_result"
    }
   ],
   "source": [
    "data.head()"
   ]
  },
  {
   "cell_type": "code",
   "execution_count": 4,
   "metadata": {},
   "outputs": [
    {
     "data": {
      "text/plain": [
       "Index(['x', 'y', 'z', 'x*x', '2*y', '2*z+3*x*x', 'w', 'target'], dtype='object')"
      ]
     },
     "execution_count": 4,
     "metadata": {},
     "output_type": "execute_result"
    }
   ],
   "source": [
    "data.columns"
   ]
  },
  {
   "cell_type": "code",
   "execution_count": 5,
   "metadata": {},
   "outputs": [
    {
     "name": "stdout",
     "output_type": "stream",
     "text": [
      "Index(['x', 'y', 'z', 'x*x', '2*y', '2*z+3*x*x', 'w'], dtype='object')\n"
     ]
    }
   ],
   "source": [
    "features = data.columns[:-1]\n",
    "print(features)"
   ]
  },
  {
   "cell_type": "code",
   "execution_count": 6,
   "metadata": {
    "colab": {},
    "colab_type": "code",
    "id": "JIIuomCkblUP"
   },
   "outputs": [],
   "source": [
    "X = data.drop(['target'], axis=1).values\n",
    "Y = data['target'].values"
   ]
  },
  {
   "cell_type": "code",
   "execution_count": 7,
   "metadata": {},
   "outputs": [
    {
     "data": {
      "text/plain": [
       "(100, 7)"
      ]
     },
     "execution_count": 7,
     "metadata": {},
     "output_type": "execute_result"
    }
   ],
   "source": [
    "X.shape"
   ]
  },
  {
   "cell_type": "code",
   "execution_count": 8,
   "metadata": {},
   "outputs": [
    {
     "data": {
      "text/plain": [
       "array([0, 1], dtype=int64)"
      ]
     },
     "execution_count": 8,
     "metadata": {},
     "output_type": "execute_result"
    }
   ],
   "source": [
    "np.unique(Y)"
   ]
  },
  {
   "cell_type": "code",
   "execution_count": 9,
   "metadata": {},
   "outputs": [
    {
     "data": {
      "text/plain": [
       "2"
      ]
     },
     "execution_count": 9,
     "metadata": {},
     "output_type": "execute_result"
    }
   ],
   "source": [
    "X.ndim"
   ]
  },
  {
   "cell_type": "markdown",
   "metadata": {
    "colab_type": "text",
    "id": "Ydm98u3EblUU"
   },
   "source": [
    "### Doing perturbation test to check the presence of collinearity  \n",
    "\n",
    "#### Task: 1 Logistic Regression\n",
    "<pre>\n",
    "\n",
    "\n",
    "1. <b>Finding the Correlation between the features</b>\n",
    "    a. check the correlation between the features\n",
    "    b. plot heat map of correlation matrix using seaborn heatmap\n",
    "2. <b>Finding the best model for the given data</b>\n",
    "    a. Train Logistic regression on data(X,Y) that we have created in the above cell\n",
    "    b. Find the best hyper prameter alpha with hyper parameter tuning using k-fold cross validation (grid search CV or         \n",
    "    random search CV make sure you choose the alpha in log space)\n",
    "    c. Creat a new Logistic regression with the best alpha\n",
    "    (search for how to get the best hyper parameter value), name the best model as 'best_model'\n",
    "    \n",
    "3. <b>Getting the weights with the original data</b>\n",
    "    a. train the 'best_model' with X, Y\n",
    "    b. Check the accuracy of the model 'best_model_accuracy'\n",
    "    c. Get the weights W using best_model.coef_\n",
    "\n",
    "4. <b>Modifying original data</b>\n",
    "    a. Add a noise(order of 10^-2) to each element of X \n",
    "    and get the new data set X' (X' = X + e)\n",
    "    b. Train the same 'best_model' with data (X', Y)\n",
    "    c. Check the accuracy of the model 'best_model_accuracy_edited'\n",
    "    d. Get the weights W' using best_model.coef_\n",
    "    \n",
    "5. <b> Checking deviations in metric and weights </b>\n",
    "    a. find the difference between 'best_model_accuracy_edited' and 'best_model_accuracy'\n",
    "    b. find the absolute change between each value of W and W' ==> |(W-W')|\n",
    "    c. print the top 4 features which have higher % change in weights \n",
    "    compare to the other feature\n",
    "\n",
    "</pre>\n",
    "\n",
    "#### Task: 2 Linear SVM\n",
    "\n",
    "<pre>\n",
    "1. Do the same steps (2, 3, 4, 5) we have done in the above task 1.\n",
    "</pre>\n",
    "\n",
    "<strong><font color='red'>Do write the observations based on the results you get from the deviations of weights in both Logistic Regression and linear SVM</font></strong>"
   ]
  },
  {
   "cell_type": "markdown",
   "metadata": {},
   "source": [
    "**1. Finding the Correlation between the features**"
   ]
  },
  {
   "cell_type": "code",
   "execution_count": 10,
   "metadata": {
    "colab": {},
    "colab_type": "code",
    "id": "Lai8wXU1pmSb"
   },
   "outputs": [
    {
     "data": {
      "text/plain": [
       "<AxesSubplot:>"
      ]
     },
     "execution_count": 10,
     "metadata": {},
     "output_type": "execute_result"
    },
    {
     "data": {
      "image/png": "[encoded data removed]",
      "text/plain": [
       "<Figure size 432x288 with 2 Axes>"
      ]
     },
     "metadata": {
      "needs_background": "light"
     },
     "output_type": "display_data"
    }
   ],
   "source": [
    "# 1. Correlation (heat Map)\n",
    "\n",
    "# a. check the correlation between the features\n",
    "XData = data.drop(['target'], axis=1)\n",
    "\n",
    "# b. plot heat map of correlation matrix using seaborn heatmap\n",
    "sns.heatmap(XData.corr(), cmap=\"Blues\", annot=True)"
   ]
  },
  {
   "cell_type": "markdown",
   "metadata": {},
   "source": [
    "### Logistic Regression"
   ]
  },
  {
   "cell_type": "markdown",
   "metadata": {},
   "source": [
    "**2. Finding the best model (ie Hyper-Param ) for the given data**"
   ]
  },
  {
   "cell_type": "code",
   "execution_count": 12,
   "metadata": {},
   "outputs": [
    {
     "name": "stdout",
     "output_type": "stream",
     "text": [
      "tuned hpyerparameters :(C)  0.004641588833612777\n",
      "accuracy : 1.0\n"
     ]
    }
   ],
   "source": [
    "# CV - Cross Validation (Training Phase - Hyper-Param Decision Time) (Model)\n",
    "\n",
    "# ref : https://www.kaggle.com/enespolat/grid-search-with-logistic-regression\n",
    "\n",
    "#from sklearn.model_selection import GridSearchCV\n",
    "from sklearn.linear_model import LogisticRegression\n",
    "\n",
    "# Train test Split\n",
    "x_train, x_test, y_train, y_test = train_test_split(X,Y,test_size=0.3)\n",
    "\n",
    "# C is regularization term\n",
    "params={\"C\":np.logspace(-3,3,10)} # range(10**-3 : 10**3, 10)\n",
    "logreg=LogisticRegression()\n",
    "logreg_cv=GridSearchCV(logreg, params, cv=10)  # (Train-Test) Splitting Strategy = 10 Fold (ie Internal)\n",
    "\n",
    "logreg_cv.fit(x_train,y_train)\n",
    "logreg_best_param_C = logreg_cv.best_params_['C']\n",
    "\n",
    "print(\"tuned hpyerparameters :(C) \",logreg_best_param_C)\n",
    "print(\"accuracy :\",logreg_cv.best_score_)"
   ]
  },
  {
   "cell_type": "code",
   "execution_count": 13,
   "metadata": {},
   "outputs": [
    {
     "data": {
      "text/plain": [
       "array([0, 1], dtype=int64)"
      ]
     },
     "execution_count": 13,
     "metadata": {},
     "output_type": "execute_result"
    }
   ],
   "source": [
    "# Target Variables Y := (Unique vals)\n",
    "logreg_cv.classes_"
   ]
  },
  {
   "cell_type": "code",
   "execution_count": 18,
   "metadata": {},
   "outputs": [
    {
     "data": {
      "text/plain": [
       "[{'C': 0.001},\n",
       " {'C': 0.004641588833612777},\n",
       " {'C': 0.021544346900318832},\n",
       " {'C': 0.1},\n",
       " {'C': 0.46415888336127775},\n",
       " {'C': 2.154434690031882},\n",
       " {'C': 10.0},\n",
       " {'C': 46.41588833612773},\n",
       " {'C': 215.44346900318823},\n",
       " {'C': 1000.0}]"
      ]
     },
     "execution_count": 18,
     "metadata": {},
     "output_type": "execute_result"
    }
   ],
   "source": [
    "# Candidate params := Params (used whilst training)\n",
    "cand_params = logreg_cv.cv_results_['params']\n",
    "cand_params"
   ]
  },
  {
   "cell_type": "code",
   "execution_count": 19,
   "metadata": {},
   "outputs": [
    {
     "data": {
      "text/plain": [
       "(1, {'C': 0.004641588833612777})"
      ]
     },
     "execution_count": 19,
     "metadata": {},
     "output_type": "execute_result"
    }
   ],
   "source": [
    "# Best Params Value position for param := 'C'\n",
    "selected_param_idx = logreg_cv.best_index_\n",
    "selected_param_idx, cand_params[selected_param_idx]"
   ]
  },
  {
   "cell_type": "code",
   "execution_count": 20,
   "metadata": {},
   "outputs": [
    {
     "name": "stdout",
     "output_type": "stream",
     "text": [
      "7\n"
     ]
    }
   ],
   "source": [
    "# Total features that were accounted whilst doing this Grid Search (for Logistic Regression)\n",
    "feat_cnt = logreg_cv.n_features_in_\n",
    "print(feat_cnt)"
   ]
  },
  {
   "cell_type": "markdown",
   "metadata": {},
   "source": [
    "**3. Getting Weights with Original Data**"
   ]
  },
  {
   "cell_type": "code",
   "execution_count": 21,
   "metadata": {},
   "outputs": [
    {
     "name": "stdout",
     "output_type": "stream",
     "text": [
      "Best Score  1.0\n",
      "Best Weights  [ 0.0831106  -0.08739952  0.11976474  0.08098865 -0.08739952  0.08734999\n",
      "  0.07534088]\n"
     ]
    }
   ],
   "source": [
    "# Best Model (Weights + Score)\n",
    "best_model = LogisticRegression(C=logreg_best_param_C)\n",
    "# Train\n",
    "best_model.fit(x_train,y_train)\n",
    "# Test (CV) -> Accuracy\n",
    "best_score = best_model.score(x_test, y_test)\n",
    "\n",
    "# Weight\n",
    "best_weight = best_model.coef_.ravel()\n",
    "\n",
    "print(\"Best Score \", best_score)\n",
    "print(\"Best Weights \", best_weight)"
   ]
  },
  {
   "cell_type": "markdown",
   "metadata": {},
   "source": [
    "**4. Modifying the Original Data**"
   ]
  },
  {
   "cell_type": "code",
   "execution_count": 22,
   "metadata": {},
   "outputs": [
    {
     "name": "stdout",
     "output_type": "stream",
     "text": [
      "Best Score  1.0\n",
      "Best Weights  [ 0.0873578  -0.08296713  0.12143508  0.08634661 -0.08296713  0.09237386\n",
      "  0.07136226]\n"
     ]
    }
   ],
   "source": [
    "# 4. Modifying the Original Data\n",
    "noise = 10**-2\n",
    "X_m = X + noise\n",
    "\n",
    "# Train test Split\n",
    "x_train, x_test, y_train, y_test=train_test_split(X_m,Y,test_size=0.3)\n",
    "\n",
    "# Train\n",
    "best_model.fit(x_train,y_train)\n",
    "\n",
    "# Test (CV) -> Accuracy\n",
    "best_score_edited = best_model.score(x_test, y_test)\n",
    "\n",
    "# ! NOTE :- You need to ravel/flatten ie convert the nd-array into single dimen array just like List to work efficiently late\n",
    "# Weight\n",
    "best_weight_edited = best_model.coef_.ravel()\n",
    "\n",
    "print(\"Best Score \", best_score_edited)\n",
    "print(\"Best Weights \", best_weight_edited)"
   ]
  },
  {
   "cell_type": "markdown",
   "metadata": {},
   "source": [
    "> ! NOTE :- You need to ravel/flatten ie convert the nd-array into single dimen array just like List to work efficiently late"
   ]
  },
  {
   "cell_type": "code",
   "execution_count": 24,
   "metadata": {},
   "outputs": [
    {
     "data": {
      "text/plain": [
       "array([[5, 6],\n",
       "       [7, 8]])"
      ]
     },
     "execution_count": 24,
     "metadata": {},
     "output_type": "execute_result"
    }
   ],
   "source": [
    "# Adding Noise (ie Matrix + Scaler) // Sample Check \n",
    "a = np.array([[1,2], [3,4]])\n",
    "a + 4"
   ]
  },
  {
   "cell_type": "markdown",
   "metadata": {},
   "source": [
    "**5. Checking Deviations in Metrics & Weights**"
   ]
  },
  {
   "cell_type": "code",
   "execution_count": 25,
   "metadata": {},
   "outputs": [
    {
     "name": "stdout",
     "output_type": "stream",
     "text": [
      "Score Difference :-  0.0\n",
      "Weights Difference :-  [0.00424721 0.0044324  0.00167034 0.00535796 0.0044324  0.00502388\n",
      " 0.00397862]\n",
      "Diff Weight Percent :-  [ 0.05110306 -0.0507142   0.01394681  0.06615693 -0.0507142   0.05751434\n",
      "  0.05280819]\n",
      "Largest Indexes :- [3, 5, 6, 0]\n",
      "Top 4 features that have higher % change in Weights :-  ['x*x', '2*z+3*x*x', 'w', 'x']\n"
     ]
    }
   ],
   "source": [
    "# 5. Checking Deviations in Metrics & Weights\n",
    "\n",
    "import heapq\n",
    "\n",
    "# 1.\n",
    "diff_score = abs(best_score - best_score_edited)\n",
    "print('Score Difference :- ', diff_score)\n",
    "\n",
    "# 2.\n",
    "diff_weights = np.abs(best_weight - best_weight_edited)\n",
    "print('Weights Difference :- ', diff_weights)\n",
    "\n",
    "# 3.\n",
    "diff_weights_percent = diff_weights / best_weight\n",
    "print('Diff Weight Percent :- ', diff_weights_percent)\n",
    "largest_idxs = heapq.nlargest(4, range(len(diff_weights_percent)), diff_weights_percent.__getitem__)\n",
    "print('Largest Indexes :-', largest_idxs)\n",
    "top_features = [features[i] for i in largest_idxs]\n",
    "print('Top 4 features that have higher % change in Weights :- ', top_features)\n"
   ]
  },
  {
   "cell_type": "markdown",
   "metadata": {},
   "source": [
    "--------------"
   ]
  },
  {
   "cell_type": "code",
   "execution_count": 26,
   "metadata": {},
   "outputs": [],
   "source": [
    "# def perturbation_test(model, params):\n",
    "#     '''To check presence of Collinearity'''\n",
    "#     # Train test Split\n",
    "#     x_train, x_test, y_train, y_test=train_test_split(X,Y,test_size=0.3)\n",
    "\n",
    "#     #params={\"C\":np.logspace(-3,3,10)} # 10\n",
    "#     model=LogisticRegression()\n",
    "#     logreg_cv=GridSearchCV(logreg,params,cv=10)  # Splitting Strategy = 10 Fold\n",
    "\n",
    "#     logreg_cv.fit(x_train,y_train)\n",
    "\n",
    "#     logreg_best_param_C = logreg_cv.best_params_['C']\n",
    "\n",
    "#     print(\"tuned hpyerparameters :(best parameters) \",logreg_best_param_C)\n",
    "#     print(\"accuracy :\",logreg_cv.best_score_)"
   ]
  },
  {
   "cell_type": "code",
   "execution_count": null,
   "metadata": {},
   "outputs": [],
   "source": []
  },
  {
   "cell_type": "markdown",
   "metadata": {},
   "source": [
    "### SVM (Linear)"
   ]
  },
  {
   "cell_type": "markdown",
   "metadata": {},
   "source": [
    "**2. Finding the best model (ie Hyper-Param ) for the given data**"
   ]
  },
  {
   "cell_type": "code",
   "execution_count": 35,
   "metadata": {},
   "outputs": [
    {
     "name": "stdout",
     "output_type": "stream",
     "text": [
      "tuned hpyerparameters :(C)  0.004641588833612777\n",
      "accuracy : 1.0\n"
     ]
    }
   ],
   "source": [
    "# CV - Cross Validation (Training Phase - Hyper-Param Decision Time) (Model)\n",
    "\n",
    "# ref : https://www.kaggle.com/enespolat/grid-search-with-logistic-regression\n",
    "\n",
    "#from sklearn.model_selection import GridSearchCV\n",
    "from sklearn.svm import SVC\n",
    "\n",
    "# Train test Split\n",
    "x_train, x_test, y_train, y_test = train_test_split(X,Y,test_size=0.3)\n",
    "\n",
    "# C is regularization term\n",
    "params={\"C\":np.logspace(-3,3,10)} # range(10**-3 : 10**3, 10)\n",
    "model=SVC(kernel='linear')\n",
    "model_cv=GridSearchCV(model, params, cv=10)  # (Train-Test) Splitting Strategy = 10 Fold (ie Internal)\n",
    "\n",
    "model_cv.fit(x_train,y_train)\n",
    "best_param_C = model_cv.best_params_['C']\n",
    "\n",
    "print(\"tuned hpyerparameters :(C) \",best_param_C)\n",
    "print(\"accuracy :\",model_cv.best_score_)"
   ]
  },
  {
   "cell_type": "code",
   "execution_count": 36,
   "metadata": {},
   "outputs": [
    {
     "data": {
      "text/plain": [
       "array([0, 1], dtype=int64)"
      ]
     },
     "execution_count": 36,
     "metadata": {},
     "output_type": "execute_result"
    }
   ],
   "source": [
    "# Target Variables Y := (Unique vals)\n",
    "model_cv.classes_"
   ]
  },
  {
   "cell_type": "code",
   "execution_count": 37,
   "metadata": {},
   "outputs": [
    {
     "data": {
      "text/plain": [
       "[{'C': 0.001},\n",
       " {'C': 0.004641588833612777},\n",
       " {'C': 0.021544346900318832},\n",
       " {'C': 0.1},\n",
       " {'C': 0.46415888336127775},\n",
       " {'C': 2.154434690031882},\n",
       " {'C': 10.0},\n",
       " {'C': 46.41588833612773},\n",
       " {'C': 215.44346900318823},\n",
       " {'C': 1000.0}]"
      ]
     },
     "execution_count": 37,
     "metadata": {},
     "output_type": "execute_result"
    }
   ],
   "source": [
    "# Candidate params := Params (used whilst training)\n",
    "cand_params = model_cv.cv_results_['params']\n",
    "cand_params"
   ]
  },
  {
   "cell_type": "code",
   "execution_count": 38,
   "metadata": {},
   "outputs": [
    {
     "data": {
      "text/plain": [
       "(1, {'C': 0.004641588833612777})"
      ]
     },
     "execution_count": 38,
     "metadata": {},
     "output_type": "execute_result"
    }
   ],
   "source": [
    "# Best Params Value position for param := 'C'\n",
    "selected_param_idx = model_cv.best_index_\n",
    "selected_param_idx, cand_params[selected_param_idx]"
   ]
  },
  {
   "cell_type": "code",
   "execution_count": 39,
   "metadata": {},
   "outputs": [
    {
     "name": "stdout",
     "output_type": "stream",
     "text": [
      "7\n"
     ]
    }
   ],
   "source": [
    "# Total features that were accounted whilst doing this Grid Search (for Logistic Regression)\n",
    "feat_cnt = model_cv.n_features_in_\n",
    "print(feat_cnt)"
   ]
  },
  {
   "cell_type": "markdown",
   "metadata": {},
   "source": [
    "**3. Getting Weights with Original Data**"
   ]
  },
  {
   "cell_type": "code",
   "execution_count": 40,
   "metadata": {},
   "outputs": [
    {
     "name": "stdout",
     "output_type": "stream",
     "text": [
      "Best Score  1.0\n",
      "Best Weights  [ 0.14219866 -0.13512138  0.23301992  0.1383527  -0.13512138  0.15265171\n",
      "  0.10999079]\n"
     ]
    }
   ],
   "source": [
    "# Best Model (Weights + Score)\n",
    "best_model = SVC(C=best_param_C, kernel='linear')\n",
    "# Train\n",
    "best_model.fit(x_train,y_train)\n",
    "# Test (CV) -> Accuracy\n",
    "best_score = best_model.score(x_test, y_test)\n",
    "\n",
    "# Weight\n",
    "best_weight = best_model.coef_.ravel()\n",
    "\n",
    "print(\"Best Score \", best_score)\n",
    "print(\"Best Weights \", best_weight)"
   ]
  },
  {
   "cell_type": "markdown",
   "metadata": {},
   "source": [
    "**4. Modifying the Original Data**"
   ]
  },
  {
   "cell_type": "code",
   "execution_count": 41,
   "metadata": {},
   "outputs": [
    {
     "name": "stdout",
     "output_type": "stream",
     "text": [
      "Best Score  1.0\n",
      "Best Weights  [ 0.12074683 -0.16857629  0.22225544  0.11542463 -0.16857629  0.13071661\n",
      "  0.13800882]\n"
     ]
    }
   ],
   "source": [
    "# 4. Modifying the Original Data\n",
    "noise = 10**-2\n",
    "X_m = X + noise\n",
    "\n",
    "# Train test Split\n",
    "x_train, x_test, y_train, y_test=train_test_split(X_m,Y,test_size=0.3)\n",
    "\n",
    "# Train\n",
    "best_model.fit(x_train,y_train)\n",
    "\n",
    "# Test (CV) -> Accuracy\n",
    "best_score_edited = best_model.score(x_test, y_test)\n",
    "\n",
    "# ! NOTE :- You need to ravel/flatten ie convert the nd-array into single dimen array just like List to work efficiently late\n",
    "# Weight\n",
    "best_weight_edited = best_model.coef_.ravel()\n",
    "\n",
    "print(\"Best Score \", best_score_edited)\n",
    "print(\"Best Weights \", best_weight_edited)"
   ]
  },
  {
   "cell_type": "markdown",
   "metadata": {},
   "source": [
    "> ! NOTE :- You need to ravel/flatten ie convert the nd-array into single dimen array just like List to work efficiently late"
   ]
  },
  {
   "cell_type": "markdown",
   "metadata": {},
   "source": [
    "**5. Checking Deviations in Metrics & Weights**"
   ]
  },
  {
   "cell_type": "code",
   "execution_count": 42,
   "metadata": {},
   "outputs": [
    {
     "name": "stdout",
     "output_type": "stream",
     "text": [
      "Score Difference :-  0.0\n",
      "Weights Difference :-  [0.02145183 0.0334549  0.01076448 0.02292808 0.0334549  0.0219351\n",
      " 0.02801804]\n",
      "Diff Weight Percent :-  [ 0.15085816 -0.24759148  0.04619553  0.16572194 -0.24759148  0.14369378\n",
      "  0.25473077]\n",
      "Largest Indexes :- [6, 3, 0, 5]\n",
      "Top 4 features that have higher % change in Weights :-  ['w', 'x*x', 'x', '2*z+3*x*x']\n"
     ]
    }
   ],
   "source": [
    "# 5. Checking Deviations in Metrics & Weights\n",
    "\n",
    "import heapq\n",
    "\n",
    "# 1.\n",
    "diff_score = abs(best_score - best_score_edited)\n",
    "print('Score Difference :- ', diff_score)\n",
    "\n",
    "# 2.\n",
    "diff_weights = np.abs(best_weight - best_weight_edited)\n",
    "print('Weights Difference :- ', diff_weights)\n",
    "\n",
    "# 3.\n",
    "diff_weights_percent = diff_weights / best_weight\n",
    "print('Diff Weight Percent :- ', diff_weights_percent)\n",
    "largest_idxs = heapq.nlargest(4, range(len(diff_weights_percent)), diff_weights_percent.__getitem__)\n",
    "print('Largest Indexes :-', largest_idxs)\n",
    "top_features = [features[i] for i in largest_idxs]\n",
    "print('Top 4 features that have higher % change in Weights :- ', top_features)\n"
   ]
  },
  {
   "cell_type": "markdown",
   "metadata": {},
   "source": [
    "### Observations"
   ]
  },
  {
   "cell_type": "markdown",
   "metadata": {},
   "source": [
    "Logistic Regression helps to spot out the correlated feature via perturbation test, more nearly compare to SVM(linear) \n",
    "because the top most feature deviated in case of Logistic Regression is `x*x` while for SVM is `w`\n",
    "<br> Now\n",
    "`x*x` is highly correlated to `x`, clearly"
   ]
  },
  {
   "cell_type": "code",
   "execution_count": null,
   "metadata": {},
   "outputs": [],
   "source": []
  }
 ],
 "metadata": {
  "colab": {
   "name": "8D_LR_SVM.ipynb",
   "provenance": []
  },
  "kernelspec": {
   "display_name": "Python 3 (ipykernel)",
   "language": "python",
   "name": "python3"
  },
  "language_info": {
   "codemirror_mode": {
    "name": "ipython",
    "version": 3
   },
   "file_extension": ".py",
   "mimetype": "text/x-python",
   "name": "python",
   "nbconvert_exporter": "python",
   "pygments_lexer": "ipython3",
   "version": "3.9.12"
  }
 },
 "nbformat": 4,
 "nbformat_minor": 1
}
