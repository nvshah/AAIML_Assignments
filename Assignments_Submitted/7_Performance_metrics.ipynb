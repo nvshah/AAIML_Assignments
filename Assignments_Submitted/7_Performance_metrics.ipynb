{
  "cells": [
    {
      "cell_type": "markdown",
      "metadata": {
        "id": "s0Ej_bXyQvnV"
      },
      "source": [
        "# Compute performance metrics for the given Y and Y_score without sklearn"
      ]
    },
    {
      "cell_type": "code",
      "source": [
        "from google.colab import drive\n",
        "drive.mount('/content/drive')"
      ],
      "metadata": {
        "id": "pAcUF35lXAiu",
        "colab": {
          "base_uri": "https://localhost:8080/"
        },
        "outputId": "12f76a5b-980c-46ab-a7ed-c38250ab05ae"
      },
      "execution_count": 1,
      "outputs": [
        {
          "output_type": "stream",
          "name": "stdout",
          "text": [
            "Mounted at /content/drive\n"
          ]
        }
      ]
    },
    {
      "cell_type": "code",
      "source": [
        "# from google.colab import files\n",
        "# uploaded = files.upload()"
      ],
      "metadata": {
        "id": "pFEMyBvuX_Nt"
      },
      "execution_count": null,
      "outputs": []
    },
    {
      "cell_type": "code",
      "execution_count": 3,
      "metadata": {
        "id": "4CHb6NE7Qvnc"
      },
      "outputs": [],
      "source": [
        "import numpy as np\n",
        "import pandas as pd\n",
        "from functools import partial"
      ]
    },
    {
      "cell_type": "code",
      "source": [
        "src_url = r'/content/drive/MyDrive/AAIML/5. KPI'"
      ],
      "metadata": {
        "id": "Au7maCdpqZH1"
      },
      "execution_count": 6,
      "outputs": []
    },
    {
      "cell_type": "code",
      "source": [
        "df_a = pd.read_csv(fr'{src_url}/5_a.csv')\n",
        "df_b = pd.read_csv(fr'{src_url}/5_b.csv')\n",
        "df_c = pd.read_csv(fr'{src_url}/5_c.csv')\n",
        "df_d = pd.read_csv(fr'{src_url}/5_d.csv')"
      ],
      "metadata": {
        "id": "uu2l_R1KqDYx"
      },
      "execution_count": 43,
      "outputs": []
    },
    {
      "cell_type": "code",
      "source": [
        "df_a.head()"
      ],
      "metadata": {
        "colab": {
          "base_uri": "https://localhost:8080/",
          "height": 206
        },
        "id": "bEZtelYiukE0",
        "outputId": "23578285-48e1-49fb-bb60-1409b4acc813"
      },
      "execution_count": 10,
      "outputs": [
        {
          "output_type": "execute_result",
          "data": {
            "text/plain": [
              "     y     proba\n",
              "0  1.0  0.637387\n",
              "1  1.0  0.635165\n",
              "2  1.0  0.766586\n",
              "3  1.0  0.724564\n",
              "4  1.0  0.889199"
            ],
            "text/html": [
              "\n",
              "  <div id=\"df-3044dc43-ee2d-4c15-876a-58ccf0b84969\">\n",
              "    <div class=\"colab-df-container\">\n",
              "      <div>\n",
              "<style scoped>\n",
              "    .dataframe tbody tr th:only-of-type {\n",
              "        vertical-align: middle;\n",
              "    }\n",
              "\n",
              "    .dataframe tbody tr th {\n",
              "        vertical-align: top;\n",
              "    }\n",
              "\n",
              "    .dataframe thead th {\n",
              "        text-align: right;\n",
              "    }\n",
              "</style>\n",
              "<table border=\"1\" class=\"dataframe\">\n",
              "  <thead>\n",
              "    <tr style=\"text-align: right;\">\n",
              "      <th></th>\n",
              "      <th>y</th>\n",
              "      <th>proba</th>\n",
              "    </tr>\n",
              "  </thead>\n",
              "  <tbody>\n",
              "    <tr>\n",
              "      <th>0</th>\n",
              "      <td>1.0</td>\n",
              "      <td>0.637387</td>\n",
              "    </tr>\n",
              "    <tr>\n",
              "      <th>1</th>\n",
              "      <td>1.0</td>\n",
              "      <td>0.635165</td>\n",
              "    </tr>\n",
              "    <tr>\n",
              "      <th>2</th>\n",
              "      <td>1.0</td>\n",
              "      <td>0.766586</td>\n",
              "    </tr>\n",
              "    <tr>\n",
              "      <th>3</th>\n",
              "      <td>1.0</td>\n",
              "      <td>0.724564</td>\n",
              "    </tr>\n",
              "    <tr>\n",
              "      <th>4</th>\n",
              "      <td>1.0</td>\n",
              "      <td>0.889199</td>\n",
              "    </tr>\n",
              "  </tbody>\n",
              "</table>\n",
              "</div>\n",
              "      <button class=\"colab-df-convert\" onclick=\"convertToInteractive('df-3044dc43-ee2d-4c15-876a-58ccf0b84969')\"\n",
              "              title=\"Convert this dataframe to an interactive table.\"\n",
              "              style=\"display:none;\">\n",
              "        \n",
              "  <svg xmlns=\"http://www.w3.org/2000/svg\" height=\"24px\"viewBox=\"0 0 24 24\"\n",
              "       width=\"24px\">\n",
              "    <path d=\"M0 0h24v24H0V0z\" fill=\"none\"/>\n",
              "    <path d=\"M18.56 5.44l.94 2.06.94-2.06 2.06-.94-2.06-.94-.94-2.06-.94 2.06-2.06.94zm-11 1L8.5 8.5l.94-2.06 2.06-.94-2.06-.94L8.5 2.5l-.94 2.06-2.06.94zm10 10l.94 2.06.94-2.06 2.06-.94-2.06-.94-.94-2.06-.94 2.06-2.06.94z\"/><path d=\"M17.41 7.96l-1.37-1.37c-.4-.4-.92-.59-1.43-.59-.52 0-1.04.2-1.43.59L10.3 9.45l-7.72 7.72c-.78.78-.78 2.05 0 2.83L4 21.41c.39.39.9.59 1.41.59.51 0 1.02-.2 1.41-.59l7.78-7.78 2.81-2.81c.8-.78.8-2.07 0-2.86zM5.41 20L4 18.59l7.72-7.72 1.47 1.35L5.41 20z\"/>\n",
              "  </svg>\n",
              "      </button>\n",
              "      \n",
              "  <style>\n",
              "    .colab-df-container {\n",
              "      display:flex;\n",
              "      flex-wrap:wrap;\n",
              "      gap: 12px;\n",
              "    }\n",
              "\n",
              "    .colab-df-convert {\n",
              "      background-color: #E8F0FE;\n",
              "      border: none;\n",
              "      border-radius: 50%;\n",
              "      cursor: pointer;\n",
              "      display: none;\n",
              "      fill: #1967D2;\n",
              "      height: 32px;\n",
              "      padding: 0 0 0 0;\n",
              "      width: 32px;\n",
              "    }\n",
              "\n",
              "    .colab-df-convert:hover {\n",
              "      background-color: #E2EBFA;\n",
              "      box-shadow: 0px 1px 2px rgba(60, 64, 67, 0.3), 0px 1px 3px 1px rgba(60, 64, 67, 0.15);\n",
              "      fill: #174EA6;\n",
              "    }\n",
              "\n",
              "    [theme=dark] .colab-df-convert {\n",
              "      background-color: #3B4455;\n",
              "      fill: #D2E3FC;\n",
              "    }\n",
              "\n",
              "    [theme=dark] .colab-df-convert:hover {\n",
              "      background-color: #434B5C;\n",
              "      box-shadow: 0px 1px 3px 1px rgba(0, 0, 0, 0.15);\n",
              "      filter: drop-shadow(0px 1px 2px rgba(0, 0, 0, 0.3));\n",
              "      fill: #FFFFFF;\n",
              "    }\n",
              "  </style>\n",
              "\n",
              "      <script>\n",
              "        const buttonEl =\n",
              "          document.querySelector('#df-3044dc43-ee2d-4c15-876a-58ccf0b84969 button.colab-df-convert');\n",
              "        buttonEl.style.display =\n",
              "          google.colab.kernel.accessAllowed ? 'block' : 'none';\n",
              "\n",
              "        async function convertToInteractive(key) {\n",
              "          const element = document.querySelector('#df-3044dc43-ee2d-4c15-876a-58ccf0b84969');\n",
              "          const dataTable =\n",
              "            await google.colab.kernel.invokeFunction('convertToInteractive',\n",
              "                                                     [key], {});\n",
              "          if (!dataTable) return;\n",
              "\n",
              "          const docLinkHtml = 'Like what you see? Visit the ' +\n",
              "            '<a target=\"_blank\" href=https://colab.research.google.com/notebooks/data_table.ipynb>data table notebook</a>'\n",
              "            + ' to learn more about interactive tables.';\n",
              "          element.innerHTML = '';\n",
              "          dataTable['output_type'] = 'display_data';\n",
              "          await google.colab.output.renderOutput(dataTable, element);\n",
              "          const docLink = document.createElement('div');\n",
              "          docLink.innerHTML = docLinkHtml;\n",
              "          element.appendChild(docLink);\n",
              "        }\n",
              "      </script>\n",
              "    </div>\n",
              "  </div>\n",
              "  "
            ]
          },
          "metadata": {},
          "execution_count": 10
        }
      ]
    },
    {
      "cell_type": "code",
      "source": [
        "df_a['y'].value_counts()"
      ],
      "metadata": {
        "colab": {
          "base_uri": "https://localhost:8080/"
        },
        "id": "vZYUt2bzundb",
        "outputId": "8571e5d8-1108-4455-984c-ac1ba907b31b"
      },
      "execution_count": 11,
      "outputs": [
        {
          "output_type": "execute_result",
          "data": {
            "text/plain": [
              "1.0    10000\n",
              "0.0      100\n",
              "Name: y, dtype: int64"
            ]
          },
          "metadata": {},
          "execution_count": 11
        }
      ]
    },
    {
      "cell_type": "markdown",
      "metadata": {
        "id": "aKX1J-r8WvVf"
      },
      "source": [
        "### Utils ---"
      ]
    },
    {
      "cell_type": "code",
      "execution_count": 8,
      "metadata": {
        "id": "yg8uUJvGAfCM",
        "colab": {
          "base_uri": "https://localhost:8080/",
          "height": 112
        },
        "outputId": "40dcfa09-83c2-4a64-cded-27fa08fbdabb"
      },
      "outputs": [
        {
          "output_type": "execute_result",
          "data": {
            "text/plain": [
              "    at  af\n",
              "pt   0   0\n",
              "pf   0   0"
            ],
            "text/html": [
              "\n",
              "  <div id=\"df-9c447f5b-8d06-4c5f-b0d8-b44823c5131a\">\n",
              "    <div class=\"colab-df-container\">\n",
              "      <div>\n",
              "<style scoped>\n",
              "    .dataframe tbody tr th:only-of-type {\n",
              "        vertical-align: middle;\n",
              "    }\n",
              "\n",
              "    .dataframe tbody tr th {\n",
              "        vertical-align: top;\n",
              "    }\n",
              "\n",
              "    .dataframe thead th {\n",
              "        text-align: right;\n",
              "    }\n",
              "</style>\n",
              "<table border=\"1\" class=\"dataframe\">\n",
              "  <thead>\n",
              "    <tr style=\"text-align: right;\">\n",
              "      <th></th>\n",
              "      <th>at</th>\n",
              "      <th>af</th>\n",
              "    </tr>\n",
              "  </thead>\n",
              "  <tbody>\n",
              "    <tr>\n",
              "      <th>pt</th>\n",
              "      <td>0</td>\n",
              "      <td>0</td>\n",
              "    </tr>\n",
              "    <tr>\n",
              "      <th>pf</th>\n",
              "      <td>0</td>\n",
              "      <td>0</td>\n",
              "    </tr>\n",
              "  </tbody>\n",
              "</table>\n",
              "</div>\n",
              "      <button class=\"colab-df-convert\" onclick=\"convertToInteractive('df-9c447f5b-8d06-4c5f-b0d8-b44823c5131a')\"\n",
              "              title=\"Convert this dataframe to an interactive table.\"\n",
              "              style=\"display:none;\">\n",
              "        \n",
              "  <svg xmlns=\"http://www.w3.org/2000/svg\" height=\"24px\"viewBox=\"0 0 24 24\"\n",
              "       width=\"24px\">\n",
              "    <path d=\"M0 0h24v24H0V0z\" fill=\"none\"/>\n",
              "    <path d=\"M18.56 5.44l.94 2.06.94-2.06 2.06-.94-2.06-.94-.94-2.06-.94 2.06-2.06.94zm-11 1L8.5 8.5l.94-2.06 2.06-.94-2.06-.94L8.5 2.5l-.94 2.06-2.06.94zm10 10l.94 2.06.94-2.06 2.06-.94-2.06-.94-.94-2.06-.94 2.06-2.06.94z\"/><path d=\"M17.41 7.96l-1.37-1.37c-.4-.4-.92-.59-1.43-.59-.52 0-1.04.2-1.43.59L10.3 9.45l-7.72 7.72c-.78.78-.78 2.05 0 2.83L4 21.41c.39.39.9.59 1.41.59.51 0 1.02-.2 1.41-.59l7.78-7.78 2.81-2.81c.8-.78.8-2.07 0-2.86zM5.41 20L4 18.59l7.72-7.72 1.47 1.35L5.41 20z\"/>\n",
              "  </svg>\n",
              "      </button>\n",
              "      \n",
              "  <style>\n",
              "    .colab-df-container {\n",
              "      display:flex;\n",
              "      flex-wrap:wrap;\n",
              "      gap: 12px;\n",
              "    }\n",
              "\n",
              "    .colab-df-convert {\n",
              "      background-color: #E8F0FE;\n",
              "      border: none;\n",
              "      border-radius: 50%;\n",
              "      cursor: pointer;\n",
              "      display: none;\n",
              "      fill: #1967D2;\n",
              "      height: 32px;\n",
              "      padding: 0 0 0 0;\n",
              "      width: 32px;\n",
              "    }\n",
              "\n",
              "    .colab-df-convert:hover {\n",
              "      background-color: #E2EBFA;\n",
              "      box-shadow: 0px 1px 2px rgba(60, 64, 67, 0.3), 0px 1px 3px 1px rgba(60, 64, 67, 0.15);\n",
              "      fill: #174EA6;\n",
              "    }\n",
              "\n",
              "    [theme=dark] .colab-df-convert {\n",
              "      background-color: #3B4455;\n",
              "      fill: #D2E3FC;\n",
              "    }\n",
              "\n",
              "    [theme=dark] .colab-df-convert:hover {\n",
              "      background-color: #434B5C;\n",
              "      box-shadow: 0px 1px 3px 1px rgba(0, 0, 0, 0.15);\n",
              "      filter: drop-shadow(0px 1px 2px rgba(0, 0, 0, 0.3));\n",
              "      fill: #FFFFFF;\n",
              "    }\n",
              "  </style>\n",
              "\n",
              "      <script>\n",
              "        const buttonEl =\n",
              "          document.querySelector('#df-9c447f5b-8d06-4c5f-b0d8-b44823c5131a button.colab-df-convert');\n",
              "        buttonEl.style.display =\n",
              "          google.colab.kernel.accessAllowed ? 'block' : 'none';\n",
              "\n",
              "        async function convertToInteractive(key) {\n",
              "          const element = document.querySelector('#df-9c447f5b-8d06-4c5f-b0d8-b44823c5131a');\n",
              "          const dataTable =\n",
              "            await google.colab.kernel.invokeFunction('convertToInteractive',\n",
              "                                                     [key], {});\n",
              "          if (!dataTable) return;\n",
              "\n",
              "          const docLinkHtml = 'Like what you see? Visit the ' +\n",
              "            '<a target=\"_blank\" href=https://colab.research.google.com/notebooks/data_table.ipynb>data table notebook</a>'\n",
              "            + ' to learn more about interactive tables.';\n",
              "          element.innerHTML = '';\n",
              "          dataTable['output_type'] = 'display_data';\n",
              "          await google.colab.output.renderOutput(dataTable, element);\n",
              "          const docLink = document.createElement('div');\n",
              "          docLink.innerHTML = docLinkHtml;\n",
              "          element.appendChild(docLink);\n",
              "        }\n",
              "      </script>\n",
              "    </div>\n",
              "  </div>\n",
              "  "
            ]
          },
          "metadata": {},
          "execution_count": 8
        }
      ],
      "source": [
        "# Actual True (Just for Understanding)\n",
        "at = pd.Series(\n",
        "    [0, 0],\n",
        "    index=['pt', 'pf']\n",
        ")\n",
        "# Actual False\n",
        "af = pd.Series(\n",
        "    [0, 0],\n",
        "    index=['pt', 'pf']\n",
        ")\n",
        "\n",
        "cm = pd.DataFrame({'at': at, 'af':af})\n",
        "cm"
      ]
    },
    {
      "cell_type": "code",
      "execution_count": 9,
      "metadata": {
        "id": "CzD8Z2PTWvVl"
      },
      "outputs": [],
      "source": [
        "# # 1. Confusion Matrix  (DEPRECATED)\n",
        "# # NOTE: Below Code is Iterator based (hence consume a lot time but indeed is memory efficent)\n",
        "# def calc_confusion_matrix_o1(d):\n",
        "#     '''\n",
        "#     Compute confusion matrix for binary classification\n",
        "#     :param d: dataframe with 2 series ie actual & predicted\n",
        "#     '''\n",
        "#     #d = df[['y', 'y_pred']]\n",
        "#     tp = fp = fn = tn = 0\n",
        "#     for _, r in d.iterrows():\n",
        "#         ya, yp = r\n",
        "#         if ya == yp:\n",
        "#             if yp :  # True Positive\n",
        "#                 tp += 1\n",
        "#             else:    # True Negative\n",
        "#                 tn += 1\n",
        "#         else:\n",
        "#             if yp :  # False Positive\n",
        "#                 fp += 1\n",
        "#             else:    # False Negative\n",
        "#                 fn += 1\n",
        "\n",
        "#     ans = np.array([[tn, fn], [fp, tp]])\n",
        "# #     ans\n",
        "# #     cm = pd.DataFrame(ans)\n",
        "#     return ans"
      ]
    },
    {
      "cell_type": "code",
      "source": [
        "# TEST\n",
        "# Count only True Elements in Series\n",
        "np.count_nonzero(df_a['y']==0.0)"
      ],
      "metadata": {
        "colab": {
          "base_uri": "https://localhost:8080/"
        },
        "id": "olitM1AcusOy",
        "outputId": "5994dab1-a1ad-43a1-f35b-084d149ed583"
      },
      "execution_count": 13,
      "outputs": [
        {
          "output_type": "execute_result",
          "data": {
            "text/plain": [
              "100"
            ]
          },
          "metadata": {},
          "execution_count": 13
        }
      ]
    },
    {
      "cell_type": "code",
      "source": [
        "# 1. Confusion Matrix  \n",
        "# NOTE: Below Code is Vectorization Based hence it can utilize concurrent programming of sinlge Core (ie Threads) Hence its much faster in terms of Time\n",
        "def calc_confusion_matrix(d):\n",
        "    '''\n",
        "    Compute confusion matrix for binary classification\n",
        "    :param d: dataframe with 2 series ie actual & predicted\n",
        "    :param ya: col name for actual y (target)\n",
        "    :param yp: col name for predicted y (target)\n",
        "    '''\n",
        "    #d = df[['y', 'y_pred']]\n",
        "    ya, yp = d.columns\n",
        "    tp = np.count_nonzero((d[yp] == 1) & (d[ya] == 1)) # True Positive\n",
        "    tn = np.count_nonzero((d[yp] == 0) & (d[ya] == 0)) # True Negative\n",
        "    fp = np.count_nonzero((d[yp] == 1) & (d[ya] == 0)) # False Positive\n",
        "    fn = np.count_nonzero((d[yp] == 0) & (d[ya] == 1)) # False Negatove\n",
        "\n",
        "    ans = np.array([[tn, fn], [fp, tp]])\n",
        "    return ans"
      ],
      "metadata": {
        "id": "a1MXFVra2k_S"
      },
      "execution_count": 25,
      "outputs": []
    },
    {
      "cell_type": "code",
      "execution_count": 15,
      "metadata": {
        "id": "EZfzb_S4WvVq"
      },
      "outputs": [],
      "source": [
        "# 2. F1 Score\n",
        "def calc_f1_score(d):\n",
        "    '''\n",
        "    :param d: dataframe with 2 series ie actual & predicted\n",
        "    '''\n",
        "    cm = calc_confusion_matrix(d)\n",
        "    tp, fp, fn = cm[1, 1], cm[1, 0], cm[0, 1]\n",
        "    \n",
        "    precision = tp / (tp + fp)\n",
        "    recall = tp / (tp + fn)\n",
        "\n",
        "    f1_score = 2 / (recall**-1 + precision**-1)\n",
        "    return f1_score"
      ]
    },
    {
      "cell_type": "code",
      "source": [
        "\n",
        "# def get_tpr_fpr(d):\n",
        "#     '''\n",
        "#     :param d: dataframe with 2 series ie actual & predicted\n",
        "#     '''\n",
        "#     c1 = d.columns[0] # actual column name\n",
        "#     tp = fp = 0\n",
        "#     cnts = d[c1].value_counts()\n",
        "\n",
        "#     an, ap = cnts.get(0, 0), cnts.get(1, 0)\n",
        "#     for i, r in d.iterrows():\n",
        "\n",
        "#         ya, yp = r\n",
        "#         if ya == yp:\n",
        "#             if yp :  # True Positive\n",
        "#                 tp += 1\n",
        "#         else:\n",
        "#             if yp :  # False Positive\n",
        "#                 fp += 1\n",
        "\n",
        "#     # TODO decide What to do\n",
        "#     tpr = (tp / ap) if ap else 0\n",
        "#     fpr = (fp / an) if an else 0\n",
        "\n",
        "#     return tpr, fpr"
      ],
      "metadata": {
        "id": "nPMRcBgGzH7h"
      },
      "execution_count": null,
      "outputs": []
    },
    {
      "cell_type": "code",
      "source": [
        "\n",
        "def get_tpr_fpr(d):\n",
        "    '''\n",
        "    :param d: dataframe with 2 series ie actual & predicted\n",
        "    '''\n",
        "    ca, cp = d.columns # actual-col, pred-col\n",
        "    cnts = d[ca].value_counts()\n",
        "\n",
        "    an, ap = cnts.get(0, 0), cnts.get(1, 0) # actual negative, actual positive\n",
        "    tp = np.count_nonzero((d[cp] == 1) & (d[ca] == 1)) # True Positive\n",
        "    fp = np.count_nonzero((d[cp] == 1) & (d[ca] == 0)) # False Positive\n",
        "\n",
        "    # TODO decide What to do\n",
        "    tpr = (tp / ap) if ap else 0\n",
        "    fpr = (fp / an) if an else 0\n",
        "\n",
        "    return tpr, fpr"
      ],
      "metadata": {
        "id": "y_IMJ7mmzMx4"
      },
      "execution_count": 33,
      "outputs": []
    },
    {
      "cell_type": "code",
      "execution_count": 17,
      "metadata": {
        "id": "_bTOl0AAWvVs"
      },
      "outputs": [],
      "source": [
        "# 3. AUC Score\n",
        "\n",
        "def calc_auc_score(d):\n",
        "    '''\n",
        "    :param d: dataframe with 2 series ie actual & predicted\n",
        "    '''\n",
        "    y_act, y_proba, *_ = d.columns\n",
        "    \n",
        "    # 1) Sort values by pred\n",
        "    d_s = d.sort_values(by=y_proba, ascending=False)\n",
        "    unique_proba = d_s[y_proba].unique()\n",
        "    tpr_array = []\n",
        "    fpr_array = []\n",
        "    \n",
        "    for thresold in unique_proba:\n",
        "        # 2) compute new y_hat for given {thresold}\n",
        "        y_hat = np.where(d_s[y_proba] >= thresold, 1, 0)\n",
        "        df = pd.DataFrame({'y': d_s[y_act], 'y_hat': y_hat})\n",
        "        \n",
        "        # 3) calculate tpr, fpr\n",
        "        tpr, fpr = get_tpr_fpr(df)\n",
        "        \n",
        "        # 4) store results to resp arrays\n",
        "        tpr_array.append(tpr)\n",
        "        fpr_array.append(fpr)\n",
        "        \n",
        "    # calculate AUC score ie Area Under Curve = Integration => by Trapezoidal method\n",
        "    auc_score = None\n",
        "    if tpr_array and fpr_array:\n",
        "        auc_score = np.trapz(tpr_array, fpr_array) \n",
        "        \n",
        "    return auc_score"
      ]
    },
    {
      "cell_type": "code",
      "execution_count": 18,
      "metadata": {
        "id": "dgdYT3ONWvVw"
      },
      "outputs": [],
      "source": [
        "# 4. Accuracy Score\n",
        "\n",
        "def calc_accuracy_score(df):\n",
        "    '''\n",
        "    :param d: dataframe with 2 series ie actual & predicted\n",
        "    '''\n",
        "    cm = calc_confusion_matrix(df)\n",
        "    total = cm.sum()\n",
        "    true_pred_total = np.diag(cm).sum() \n",
        "    accuracy = true_pred_total/total\n",
        "    return accuracy"
      ]
    },
    {
      "cell_type": "markdown",
      "metadata": {
        "id": "KbsWXuDaQvnq"
      },
      "source": [
        "\n",
        "## A. Compute performance metrics for the given data '5_a.csv'\n",
        " <pre>  <b>Note 1:</b> in this data you can see number of positive points >> number of negatives points\n",
        "   <b>Note 2:</b> use pandas or numpy to read the data from <b>5_a.csv</b>\n",
        "   <b>Note 3:</b> you need to derive the class labels from given score</pre> $y^{pred}= \\text{[0 if y_score < 0.5 else 1]}$\n",
        "\n",
        "<pre>\n",
        "<ol>\n",
        "<li> Compute Confusion Matrix </li>\n",
        "<li> Compute F1 Score </li>\n",
        "<li> Compute AUC Score, you need to compute different thresholds and for each threshold compute tpr,fpr and then use               numpy.trapz(tpr_array, fpr_array) <a href='https://stackoverflow.com/q/53603376/4084039'>https://stackoverflow.com/q/53603376/4084039</a>, <a href='https://stackoverflow.com/a/39678975/4084039'>https://stackoverflow.com/a/39678975/4084039</a> Note: it should be numpy.trapz(tpr_array, fpr_array) not numpy.trapz(fpr_array, tpr_array)\n",
        "Note- Make sure that you arrange your probability scores in descending order while calculating AUC</li>\n",
        "<li> Compute Accuracy Score </li>\n",
        "</ol>\n",
        "</pre>"
      ]
    },
    {
      "cell_type": "code",
      "execution_count": null,
      "metadata": {
        "id": "WaFLW7oBQvnt"
      },
      "outputs": [],
      "source": [
        "# df_a=pd.read_csv('5_a.csv')\n",
        "# df_a.head()"
      ]
    },
    {
      "cell_type": "code",
      "execution_count": 19,
      "metadata": {
        "colab": {
          "base_uri": "https://localhost:8080/",
          "height": 424
        },
        "id": "Q2a8f4AzWvV4",
        "outputId": "14fa2958-70cd-4d7b-eebe-294f43386a0d"
      },
      "outputs": [
        {
          "output_type": "execute_result",
          "data": {
            "text/plain": [
              "         y     proba  y_pred\n",
              "0      1.0  0.637387       1\n",
              "1      1.0  0.635165       1\n",
              "2      1.0  0.766586       1\n",
              "3      1.0  0.724564       1\n",
              "4      1.0  0.889199       1\n",
              "...    ...       ...     ...\n",
              "10095  1.0  0.665371       1\n",
              "10096  1.0  0.607961       1\n",
              "10097  1.0  0.777724       1\n",
              "10098  1.0  0.846036       1\n",
              "10099  1.0  0.679507       1\n",
              "\n",
              "[10100 rows x 3 columns]"
            ],
            "text/html": [
              "\n",
              "  <div id=\"df-f4a35143-3696-43f9-9679-f7753c009ab8\">\n",
              "    <div class=\"colab-df-container\">\n",
              "      <div>\n",
              "<style scoped>\n",
              "    .dataframe tbody tr th:only-of-type {\n",
              "        vertical-align: middle;\n",
              "    }\n",
              "\n",
              "    .dataframe tbody tr th {\n",
              "        vertical-align: top;\n",
              "    }\n",
              "\n",
              "    .dataframe thead th {\n",
              "        text-align: right;\n",
              "    }\n",
              "</style>\n",
              "<table border=\"1\" class=\"dataframe\">\n",
              "  <thead>\n",
              "    <tr style=\"text-align: right;\">\n",
              "      <th></th>\n",
              "      <th>y</th>\n",
              "      <th>proba</th>\n",
              "      <th>y_pred</th>\n",
              "    </tr>\n",
              "  </thead>\n",
              "  <tbody>\n",
              "    <tr>\n",
              "      <th>0</th>\n",
              "      <td>1.0</td>\n",
              "      <td>0.637387</td>\n",
              "      <td>1</td>\n",
              "    </tr>\n",
              "    <tr>\n",
              "      <th>1</th>\n",
              "      <td>1.0</td>\n",
              "      <td>0.635165</td>\n",
              "      <td>1</td>\n",
              "    </tr>\n",
              "    <tr>\n",
              "      <th>2</th>\n",
              "      <td>1.0</td>\n",
              "      <td>0.766586</td>\n",
              "      <td>1</td>\n",
              "    </tr>\n",
              "    <tr>\n",
              "      <th>3</th>\n",
              "      <td>1.0</td>\n",
              "      <td>0.724564</td>\n",
              "      <td>1</td>\n",
              "    </tr>\n",
              "    <tr>\n",
              "      <th>4</th>\n",
              "      <td>1.0</td>\n",
              "      <td>0.889199</td>\n",
              "      <td>1</td>\n",
              "    </tr>\n",
              "    <tr>\n",
              "      <th>...</th>\n",
              "      <td>...</td>\n",
              "      <td>...</td>\n",
              "      <td>...</td>\n",
              "    </tr>\n",
              "    <tr>\n",
              "      <th>10095</th>\n",
              "      <td>1.0</td>\n",
              "      <td>0.665371</td>\n",
              "      <td>1</td>\n",
              "    </tr>\n",
              "    <tr>\n",
              "      <th>10096</th>\n",
              "      <td>1.0</td>\n",
              "      <td>0.607961</td>\n",
              "      <td>1</td>\n",
              "    </tr>\n",
              "    <tr>\n",
              "      <th>10097</th>\n",
              "      <td>1.0</td>\n",
              "      <td>0.777724</td>\n",
              "      <td>1</td>\n",
              "    </tr>\n",
              "    <tr>\n",
              "      <th>10098</th>\n",
              "      <td>1.0</td>\n",
              "      <td>0.846036</td>\n",
              "      <td>1</td>\n",
              "    </tr>\n",
              "    <tr>\n",
              "      <th>10099</th>\n",
              "      <td>1.0</td>\n",
              "      <td>0.679507</td>\n",
              "      <td>1</td>\n",
              "    </tr>\n",
              "  </tbody>\n",
              "</table>\n",
              "<p>10100 rows × 3 columns</p>\n",
              "</div>\n",
              "      <button class=\"colab-df-convert\" onclick=\"convertToInteractive('df-f4a35143-3696-43f9-9679-f7753c009ab8')\"\n",
              "              title=\"Convert this dataframe to an interactive table.\"\n",
              "              style=\"display:none;\">\n",
              "        \n",
              "  <svg xmlns=\"http://www.w3.org/2000/svg\" height=\"24px\"viewBox=\"0 0 24 24\"\n",
              "       width=\"24px\">\n",
              "    <path d=\"M0 0h24v24H0V0z\" fill=\"none\"/>\n",
              "    <path d=\"M18.56 5.44l.94 2.06.94-2.06 2.06-.94-2.06-.94-.94-2.06-.94 2.06-2.06.94zm-11 1L8.5 8.5l.94-2.06 2.06-.94-2.06-.94L8.5 2.5l-.94 2.06-2.06.94zm10 10l.94 2.06.94-2.06 2.06-.94-2.06-.94-.94-2.06-.94 2.06-2.06.94z\"/><path d=\"M17.41 7.96l-1.37-1.37c-.4-.4-.92-.59-1.43-.59-.52 0-1.04.2-1.43.59L10.3 9.45l-7.72 7.72c-.78.78-.78 2.05 0 2.83L4 21.41c.39.39.9.59 1.41.59.51 0 1.02-.2 1.41-.59l7.78-7.78 2.81-2.81c.8-.78.8-2.07 0-2.86zM5.41 20L4 18.59l7.72-7.72 1.47 1.35L5.41 20z\"/>\n",
              "  </svg>\n",
              "      </button>\n",
              "      \n",
              "  <style>\n",
              "    .colab-df-container {\n",
              "      display:flex;\n",
              "      flex-wrap:wrap;\n",
              "      gap: 12px;\n",
              "    }\n",
              "\n",
              "    .colab-df-convert {\n",
              "      background-color: #E8F0FE;\n",
              "      border: none;\n",
              "      border-radius: 50%;\n",
              "      cursor: pointer;\n",
              "      display: none;\n",
              "      fill: #1967D2;\n",
              "      height: 32px;\n",
              "      padding: 0 0 0 0;\n",
              "      width: 32px;\n",
              "    }\n",
              "\n",
              "    .colab-df-convert:hover {\n",
              "      background-color: #E2EBFA;\n",
              "      box-shadow: 0px 1px 2px rgba(60, 64, 67, 0.3), 0px 1px 3px 1px rgba(60, 64, 67, 0.15);\n",
              "      fill: #174EA6;\n",
              "    }\n",
              "\n",
              "    [theme=dark] .colab-df-convert {\n",
              "      background-color: #3B4455;\n",
              "      fill: #D2E3FC;\n",
              "    }\n",
              "\n",
              "    [theme=dark] .colab-df-convert:hover {\n",
              "      background-color: #434B5C;\n",
              "      box-shadow: 0px 1px 3px 1px rgba(0, 0, 0, 0.15);\n",
              "      filter: drop-shadow(0px 1px 2px rgba(0, 0, 0, 0.3));\n",
              "      fill: #FFFFFF;\n",
              "    }\n",
              "  </style>\n",
              "\n",
              "      <script>\n",
              "        const buttonEl =\n",
              "          document.querySelector('#df-f4a35143-3696-43f9-9679-f7753c009ab8 button.colab-df-convert');\n",
              "        buttonEl.style.display =\n",
              "          google.colab.kernel.accessAllowed ? 'block' : 'none';\n",
              "\n",
              "        async function convertToInteractive(key) {\n",
              "          const element = document.querySelector('#df-f4a35143-3696-43f9-9679-f7753c009ab8');\n",
              "          const dataTable =\n",
              "            await google.colab.kernel.invokeFunction('convertToInteractive',\n",
              "                                                     [key], {});\n",
              "          if (!dataTable) return;\n",
              "\n",
              "          const docLinkHtml = 'Like what you see? Visit the ' +\n",
              "            '<a target=\"_blank\" href=https://colab.research.google.com/notebooks/data_table.ipynb>data table notebook</a>'\n",
              "            + ' to learn more about interactive tables.';\n",
              "          element.innerHTML = '';\n",
              "          dataTable['output_type'] = 'display_data';\n",
              "          await google.colab.output.renderOutput(dataTable, element);\n",
              "          const docLink = document.createElement('div');\n",
              "          docLink.innerHTML = docLinkHtml;\n",
              "          element.appendChild(docLink);\n",
              "        }\n",
              "      </script>\n",
              "    </div>\n",
              "  </div>\n",
              "  "
            ]
          },
          "metadata": {},
          "execution_count": 19
        }
      ],
      "source": [
        "# Approximate the absolute prediction\n",
        "df_a['y_pred'] = np.where(df_a['proba']<0.5, 0, 1)\n",
        "df_a"
      ]
    },
    {
      "cell_type": "code",
      "execution_count": null,
      "metadata": {
        "id": "fuzJvyT8WvV8",
        "outputId": "c6fd1c1a-8531-4c77-daa3-f45401bdc667"
      },
      "outputs": [
        {
          "data": {
            "text/plain": [
              "(2020, 3)"
            ]
          },
          "execution_count": 9,
          "metadata": {},
          "output_type": "execute_result"
        }
      ],
      "source": [
        "# df_a = df_a.sample(frac=0.20)\n",
        "# df_a.shape"
      ]
    },
    {
      "cell_type": "code",
      "execution_count": 30,
      "metadata": {
        "colab": {
          "base_uri": "https://localhost:8080/"
        },
        "id": "xgcAX2GPWvV9",
        "outputId": "0a459c99-28a2-4581-e18b-288b9d7505dc"
      },
      "outputs": [
        {
          "output_type": "execute_result",
          "data": {
            "text/plain": [
              "array([[    0,     0],\n",
              "       [  100, 10000]])"
            ]
          },
          "metadata": {},
          "execution_count": 30
        }
      ],
      "source": [
        "# Confusion Matrix\n",
        "calc_confusion_matrix(df_a[['y', 'y_pred']])"
      ]
    },
    {
      "cell_type": "code",
      "execution_count": 31,
      "metadata": {
        "colab": {
          "base_uri": "https://localhost:8080/"
        },
        "id": "BdkH7hmYWvV_",
        "outputId": "9ffc4c49-20f2-469f-be12-3440625a00db"
      },
      "outputs": [
        {
          "output_type": "execute_result",
          "data": {
            "text/plain": [
              "0.9950248756218907"
            ]
          },
          "metadata": {},
          "execution_count": 31
        }
      ],
      "source": [
        "# F1 Score\n",
        "calc_f1_score(df_a[['y', 'y_pred']])"
      ]
    },
    {
      "cell_type": "code",
      "execution_count": 34,
      "metadata": {
        "id": "JTAT_WC1WvWA",
        "colab": {
          "base_uri": "https://localhost:8080/"
        },
        "outputId": "ab137629-c758-428f-fb66-2471d394ef29"
      },
      "outputs": [
        {
          "output_type": "execute_result",
          "data": {
            "text/plain": [
              "0.48829900000000004"
            ]
          },
          "metadata": {},
          "execution_count": 34
        }
      ],
      "source": [
        "# aUC Score\n",
        "calc_auc_score(df_a[['y', 'proba']])"
      ]
    },
    {
      "cell_type": "code",
      "execution_count": 35,
      "metadata": {
        "id": "MrFeC-GmWvWB",
        "outputId": "4b438b25-c900-4961-b7f8-8063f7ac9c3b",
        "colab": {
          "base_uri": "https://localhost:8080/"
        }
      },
      "outputs": [
        {
          "output_type": "execute_result",
          "data": {
            "text/plain": [
              "0.9900990099009901"
            ]
          },
          "metadata": {},
          "execution_count": 35
        }
      ],
      "source": [
        "# accuracy score\n",
        "calc_accuracy_score(df_a[['y', 'y_pred']])"
      ]
    },
    {
      "cell_type": "markdown",
      "metadata": {
        "id": "V5KZem1BQvn2"
      },
      "source": [
        "\n",
        "\n",
        "## B. Compute performance metrics for the given data '5_b.csv'\n",
        "<pre>\n",
        "   <b>Note 1:</b> in this data you can see number of positive points << number of negatives points\n",
        "   <b>Note 2:</b> use pandas or numpy to read the data from <b>5_b.csv</b>\n",
        "   <b>Note 3:</b> you need to derive the class labels from given score</pre> $y^{pred}= \\text{[0 if y_score < 0.5 else 1]}$\n",
        "\n",
        "<pre>\n",
        "<ol>\n",
        "<li> Compute Confusion Matrix </li>\n",
        "<li> Compute F1 Score </li>\n",
        "<li> Compute AUC Score, you need to compute different thresholds and for each threshold compute tpr,fpr and then use               numpy.trapz(tpr_array, fpr_array) <a href='https://stackoverflow.com/q/53603376/4084039'>https://stackoverflow.com/q/53603376/4084039</a>, <a href='https://stackoverflow.com/a/39678975/4084039'>https://stackoverflow.com/a/39678975/4084039</a>\n",
        "Note- Make sure that you arrange your probability scores in descending order while calculating AUC</li>\n",
        "<li> Compute Accuracy Score </li>\n",
        "</ol>\n",
        "</pre>"
      ]
    },
    {
      "cell_type": "code",
      "execution_count": 36,
      "metadata": {
        "id": "U2sKlq0YQvn5",
        "outputId": "ee1d3b7e-9e48-4dfd-815f-a9ec99642e68",
        "colab": {
          "base_uri": "https://localhost:8080/",
          "height": 424
        }
      },
      "outputs": [
        {
          "output_type": "execute_result",
          "data": {
            "text/plain": [
              "         y     proba  y_pred\n",
              "0      0.0  0.281035       0\n",
              "1      0.0  0.465152       0\n",
              "2      0.0  0.352793       0\n",
              "3      0.0  0.157818       0\n",
              "4      0.0  0.276648       0\n",
              "...    ...       ...     ...\n",
              "10095  0.0  0.474401       0\n",
              "10096  0.0  0.128403       0\n",
              "10097  0.0  0.499331       0\n",
              "10098  0.0  0.157616       0\n",
              "10099  0.0  0.296618       0\n",
              "\n",
              "[10100 rows x 3 columns]"
            ],
            "text/html": [
              "\n",
              "  <div id=\"df-24a74db1-c3e4-4b33-866d-9fbf328a961a\">\n",
              "    <div class=\"colab-df-container\">\n",
              "      <div>\n",
              "<style scoped>\n",
              "    .dataframe tbody tr th:only-of-type {\n",
              "        vertical-align: middle;\n",
              "    }\n",
              "\n",
              "    .dataframe tbody tr th {\n",
              "        vertical-align: top;\n",
              "    }\n",
              "\n",
              "    .dataframe thead th {\n",
              "        text-align: right;\n",
              "    }\n",
              "</style>\n",
              "<table border=\"1\" class=\"dataframe\">\n",
              "  <thead>\n",
              "    <tr style=\"text-align: right;\">\n",
              "      <th></th>\n",
              "      <th>y</th>\n",
              "      <th>proba</th>\n",
              "      <th>y_pred</th>\n",
              "    </tr>\n",
              "  </thead>\n",
              "  <tbody>\n",
              "    <tr>\n",
              "      <th>0</th>\n",
              "      <td>0.0</td>\n",
              "      <td>0.281035</td>\n",
              "      <td>0</td>\n",
              "    </tr>\n",
              "    <tr>\n",
              "      <th>1</th>\n",
              "      <td>0.0</td>\n",
              "      <td>0.465152</td>\n",
              "      <td>0</td>\n",
              "    </tr>\n",
              "    <tr>\n",
              "      <th>2</th>\n",
              "      <td>0.0</td>\n",
              "      <td>0.352793</td>\n",
              "      <td>0</td>\n",
              "    </tr>\n",
              "    <tr>\n",
              "      <th>3</th>\n",
              "      <td>0.0</td>\n",
              "      <td>0.157818</td>\n",
              "      <td>0</td>\n",
              "    </tr>\n",
              "    <tr>\n",
              "      <th>4</th>\n",
              "      <td>0.0</td>\n",
              "      <td>0.276648</td>\n",
              "      <td>0</td>\n",
              "    </tr>\n",
              "    <tr>\n",
              "      <th>...</th>\n",
              "      <td>...</td>\n",
              "      <td>...</td>\n",
              "      <td>...</td>\n",
              "    </tr>\n",
              "    <tr>\n",
              "      <th>10095</th>\n",
              "      <td>0.0</td>\n",
              "      <td>0.474401</td>\n",
              "      <td>0</td>\n",
              "    </tr>\n",
              "    <tr>\n",
              "      <th>10096</th>\n",
              "      <td>0.0</td>\n",
              "      <td>0.128403</td>\n",
              "      <td>0</td>\n",
              "    </tr>\n",
              "    <tr>\n",
              "      <th>10097</th>\n",
              "      <td>0.0</td>\n",
              "      <td>0.499331</td>\n",
              "      <td>0</td>\n",
              "    </tr>\n",
              "    <tr>\n",
              "      <th>10098</th>\n",
              "      <td>0.0</td>\n",
              "      <td>0.157616</td>\n",
              "      <td>0</td>\n",
              "    </tr>\n",
              "    <tr>\n",
              "      <th>10099</th>\n",
              "      <td>0.0</td>\n",
              "      <td>0.296618</td>\n",
              "      <td>0</td>\n",
              "    </tr>\n",
              "  </tbody>\n",
              "</table>\n",
              "<p>10100 rows × 3 columns</p>\n",
              "</div>\n",
              "      <button class=\"colab-df-convert\" onclick=\"convertToInteractive('df-24a74db1-c3e4-4b33-866d-9fbf328a961a')\"\n",
              "              title=\"Convert this dataframe to an interactive table.\"\n",
              "              style=\"display:none;\">\n",
              "        \n",
              "  <svg xmlns=\"http://www.w3.org/2000/svg\" height=\"24px\"viewBox=\"0 0 24 24\"\n",
              "       width=\"24px\">\n",
              "    <path d=\"M0 0h24v24H0V0z\" fill=\"none\"/>\n",
              "    <path d=\"M18.56 5.44l.94 2.06.94-2.06 2.06-.94-2.06-.94-.94-2.06-.94 2.06-2.06.94zm-11 1L8.5 8.5l.94-2.06 2.06-.94-2.06-.94L8.5 2.5l-.94 2.06-2.06.94zm10 10l.94 2.06.94-2.06 2.06-.94-2.06-.94-.94-2.06-.94 2.06-2.06.94z\"/><path d=\"M17.41 7.96l-1.37-1.37c-.4-.4-.92-.59-1.43-.59-.52 0-1.04.2-1.43.59L10.3 9.45l-7.72 7.72c-.78.78-.78 2.05 0 2.83L4 21.41c.39.39.9.59 1.41.59.51 0 1.02-.2 1.41-.59l7.78-7.78 2.81-2.81c.8-.78.8-2.07 0-2.86zM5.41 20L4 18.59l7.72-7.72 1.47 1.35L5.41 20z\"/>\n",
              "  </svg>\n",
              "      </button>\n",
              "      \n",
              "  <style>\n",
              "    .colab-df-container {\n",
              "      display:flex;\n",
              "      flex-wrap:wrap;\n",
              "      gap: 12px;\n",
              "    }\n",
              "\n",
              "    .colab-df-convert {\n",
              "      background-color: #E8F0FE;\n",
              "      border: none;\n",
              "      border-radius: 50%;\n",
              "      cursor: pointer;\n",
              "      display: none;\n",
              "      fill: #1967D2;\n",
              "      height: 32px;\n",
              "      padding: 0 0 0 0;\n",
              "      width: 32px;\n",
              "    }\n",
              "\n",
              "    .colab-df-convert:hover {\n",
              "      background-color: #E2EBFA;\n",
              "      box-shadow: 0px 1px 2px rgba(60, 64, 67, 0.3), 0px 1px 3px 1px rgba(60, 64, 67, 0.15);\n",
              "      fill: #174EA6;\n",
              "    }\n",
              "\n",
              "    [theme=dark] .colab-df-convert {\n",
              "      background-color: #3B4455;\n",
              "      fill: #D2E3FC;\n",
              "    }\n",
              "\n",
              "    [theme=dark] .colab-df-convert:hover {\n",
              "      background-color: #434B5C;\n",
              "      box-shadow: 0px 1px 3px 1px rgba(0, 0, 0, 0.15);\n",
              "      filter: drop-shadow(0px 1px 2px rgba(0, 0, 0, 0.3));\n",
              "      fill: #FFFFFF;\n",
              "    }\n",
              "  </style>\n",
              "\n",
              "      <script>\n",
              "        const buttonEl =\n",
              "          document.querySelector('#df-24a74db1-c3e4-4b33-866d-9fbf328a961a button.colab-df-convert');\n",
              "        buttonEl.style.display =\n",
              "          google.colab.kernel.accessAllowed ? 'block' : 'none';\n",
              "\n",
              "        async function convertToInteractive(key) {\n",
              "          const element = document.querySelector('#df-24a74db1-c3e4-4b33-866d-9fbf328a961a');\n",
              "          const dataTable =\n",
              "            await google.colab.kernel.invokeFunction('convertToInteractive',\n",
              "                                                     [key], {});\n",
              "          if (!dataTable) return;\n",
              "\n",
              "          const docLinkHtml = 'Like what you see? Visit the ' +\n",
              "            '<a target=\"_blank\" href=https://colab.research.google.com/notebooks/data_table.ipynb>data table notebook</a>'\n",
              "            + ' to learn more about interactive tables.';\n",
              "          element.innerHTML = '';\n",
              "          dataTable['output_type'] = 'display_data';\n",
              "          await google.colab.output.renderOutput(dataTable, element);\n",
              "          const docLink = document.createElement('div');\n",
              "          docLink.innerHTML = docLinkHtml;\n",
              "          element.appendChild(docLink);\n",
              "        }\n",
              "      </script>\n",
              "    </div>\n",
              "  </div>\n",
              "  "
            ]
          },
          "metadata": {},
          "execution_count": 36
        }
      ],
      "source": [
        "# df_b=pd.read_csv('5_b.csv')\n",
        "# df_b.head()\n",
        "\n",
        "df_b['y_pred'] = np.where(df_b['proba']<0.5, 0, 1)\n",
        "df_b"
      ]
    },
    {
      "cell_type": "code",
      "execution_count": null,
      "metadata": {
        "id": "Xcw3NgawWvWG"
      },
      "outputs": [],
      "source": [
        "# df_b = df_b.sample(frac=0.20)\n",
        "# df_b.shape"
      ]
    },
    {
      "cell_type": "code",
      "execution_count": 37,
      "metadata": {
        "id": "xlLVa-cVAfCS",
        "outputId": "5c776cdb-f776-4059-d858-e57f7800fcf6",
        "colab": {
          "base_uri": "https://localhost:8080/"
        }
      },
      "outputs": [
        {
          "output_type": "execute_result",
          "data": {
            "text/plain": [
              "array([[9761,   45],\n",
              "       [ 239,   55]])"
            ]
          },
          "metadata": {},
          "execution_count": 37
        }
      ],
      "source": [
        "# Confusion Matrix\n",
        "calc_confusion_matrix(df_b[['y', 'y_pred']])"
      ]
    },
    {
      "cell_type": "code",
      "execution_count": 38,
      "metadata": {
        "id": "x1eGEZJKWvWK",
        "outputId": "8145e35c-4c23-4e0a-d24f-2bc700eab3c5",
        "colab": {
          "base_uri": "https://localhost:8080/"
        }
      },
      "outputs": [
        {
          "output_type": "execute_result",
          "data": {
            "text/plain": [
              "0.27918781725888325"
            ]
          },
          "metadata": {},
          "execution_count": 38
        }
      ],
      "source": [
        "# F1 Score\n",
        "calc_f1_score(df_b[['y', 'y_pred']])"
      ]
    },
    {
      "cell_type": "code",
      "execution_count": 39,
      "metadata": {
        "id": "8PteBcnNWvWL",
        "outputId": "d0a71bf8-2437-4469-989d-3fcf4c51fe93",
        "colab": {
          "base_uri": "https://localhost:8080/"
        }
      },
      "outputs": [
        {
          "output_type": "execute_result",
          "data": {
            "text/plain": [
              "0.9377570000000001"
            ]
          },
          "metadata": {},
          "execution_count": 39
        }
      ],
      "source": [
        "# aUC Score\n",
        "calc_auc_score(df_b[['y', 'proba']])"
      ]
    },
    {
      "cell_type": "code",
      "execution_count": 40,
      "metadata": {
        "id": "ddizPy6_WvWM",
        "outputId": "8058decb-9476-482e-cdf4-0805adde8dcb",
        "colab": {
          "base_uri": "https://localhost:8080/"
        }
      },
      "outputs": [
        {
          "output_type": "execute_result",
          "data": {
            "text/plain": [
              "0.9718811881188119"
            ]
          },
          "metadata": {},
          "execution_count": 40
        }
      ],
      "source": [
        "# accuracy score\n",
        "calc_accuracy_score(df_b[['y', 'y_pred']])"
      ]
    },
    {
      "cell_type": "markdown",
      "metadata": {
        "id": "GiPGonTzQvoB"
      },
      "source": [
        "### C. Compute the best threshold (similarly to ROC curve computation) of probability which gives lowest values of metric <b>A</b> for the given data \n",
        "<br>\n",
        "\n",
        "you will be predicting label of a data points like this: $y^{pred}= \\text{[0 if y_score < threshold  else 1]}$\n",
        "\n",
        "$ A = 500 \\times \\text{number of false negative} + 100 \\times \\text{numebr of false positive}$\n",
        "\n",
        "<pre>\n",
        "   <b>Note 1:</b> in this data you can see number of negative points > number of positive points\n",
        "   <b>Note 2:</b> use pandas or numpy to read the data from <b>5_c.csv</b>\n",
        "</pre>"
      ]
    },
    {
      "cell_type": "code",
      "execution_count": null,
      "metadata": {
        "id": "x5HIJzq1QvoE"
      },
      "outputs": [],
      "source": [
        "# df_c=pd.read_csv('5_c.csv')\n",
        "# df_c.head()"
      ]
    },
    {
      "cell_type": "code",
      "execution_count": 45,
      "metadata": {
        "id": "eAPjewjzAfCa"
      },
      "outputs": [],
      "source": [
        "def calc_best_thresold(d):\n",
        "    '''\n",
        "    :param d: dataframe with 2 series ie actual & predicted\n",
        "    '''\n",
        "    # def calc_fn_fp_old(d):\n",
        "    #     '''\n",
        "    #         THIS is Iterator Based Approach\n",
        "    #         calculate the false negative & false positive for given dataframe d\n",
        "    #         :return : tuple :- (fn, fp)\n",
        "    #     '''\n",
        "    #     fp = fn = 0\n",
        "    #     for _, r in d.iterrows():\n",
        "    #         ya, yp = r\n",
        "    #         if ya != yp:\n",
        "    #             if yp :  # False Positive\n",
        "    #                 fp += 1\n",
        "    #             else:    # False Negative\n",
        "    #                 fn += 1\n",
        "                    \n",
        "    #     return fn, fp\n",
        "\n",
        "    def calc_fn_fp(d):\n",
        "        '''\n",
        "            THIS is Vectorization Based Approach\n",
        "            calculate the false negative & false positive for given dataframe d\n",
        "            :return : tuple :- (fn, fp)\n",
        "        '''\n",
        "        ca, cp = d.columns # actual-col, pred-col\n",
        "\n",
        "        fp = np.count_nonzero((d[cp] == 1) & (d[ca] == 0)) # False Positive\n",
        "        fn = np.count_nonzero((d[cp] == 0) & (d[ca] == 1)) # False Negative\n",
        "\n",
        "        return fn, fp\n",
        "    \n",
        "    def calc_metric_A(d, thresold):\n",
        "        '''\n",
        "        :param thrsold: to decide new y_hat values\n",
        "        :param d: dataframe with actua & predicted series\n",
        "        '''\n",
        "        # compute new y_hat for given {thresold}\n",
        "        y_hat = np.where(d[y_proba] >= thresold, 1, 0)\n",
        "        df = pd.DataFrame({'y': d[y_act], 'y_hat': y_hat})\n",
        "\n",
        "        # calculate fp & fn\n",
        "        fn, fp = calc_fn_fp(df)\n",
        "\n",
        "        return (500 * fn) + (100 * fp)\n",
        "    \n",
        "    y_act, y_proba, *_ = d.columns\n",
        "    \n",
        "    # Sort values by pred\n",
        "    d_s = d.sort_values(by=y_proba, ascending=False)\n",
        "    unique_proba = d_s[y_proba].unique()\n",
        "    \n",
        "    # helper method that fixes the data frame as d_s for all thresold calculation \n",
        "    # so only thresold differs & dataframe itself remains stagnant\n",
        "    metric_A_helper = partial(calc_metric_A, d_s)\n",
        "    \n",
        "    return min(unique_proba, key = metric_A_helper)"
      ]
    },
    {
      "cell_type": "code",
      "execution_count": 46,
      "metadata": {
        "id": "muYHM1BQWvWS",
        "outputId": "c17ad29a-f48c-4dc4-ab96-6900b54f22f4",
        "colab": {
          "base_uri": "https://localhost:8080/"
        }
      },
      "outputs": [
        {
          "output_type": "execute_result",
          "data": {
            "text/plain": [
              "0.2300390278970873"
            ]
          },
          "metadata": {},
          "execution_count": 46
        }
      ],
      "source": [
        "calc_best_thresold(df_c[['y', 'prob']])"
      ]
    },
    {
      "cell_type": "code",
      "execution_count": 47,
      "metadata": {
        "id": "CE2jHnWSWvWT",
        "outputId": "45109daa-8c2d-43ab-919b-add9268c6aed",
        "colab": {
          "base_uri": "https://localhost:8080/"
        }
      },
      "outputs": [
        {
          "output_type": "execute_result",
          "data": {
            "text/plain": [
              "0.8288141557331724"
            ]
          },
          "metadata": {},
          "execution_count": 47
        }
      ],
      "source": [
        "calc_auc_score(df_c[['y', 'prob']])"
      ]
    },
    {
      "cell_type": "markdown",
      "metadata": {
        "id": "sD4CcgjXQvoL"
      },
      "source": [
        "\n",
        "## D.</b></font> Compute performance metrics(for regression) for the given data 5_d.csv\n",
        "<pre>    <b>Note 2:</b> use pandas or numpy to read the data from <b>5_d.csv</b>\n",
        "    <b>Note 1:</b> <b>5_d.csv</b> will having two columns Y and predicted_Y both are real valued features\n",
        "<ol>\n",
        "<li> Compute Mean Square Error </li>\n",
        "<li> Compute MAPE: https://www.youtube.com/watch?v=ly6ztgIkUxk</li>\n",
        "<li> Compute R^2 error: https://en.wikipedia.org/wiki/Coefficient_of_determination#Definitions </li>\n",
        "</ol>\n",
        "</pre>"
      ]
    },
    {
      "cell_type": "code",
      "execution_count": 49,
      "metadata": {
        "id": "sVOj-bF9AfCd",
        "outputId": "778597f0-02e5-4adf-bb11-a729f474281b",
        "colab": {
          "base_uri": "https://localhost:8080/"
        }
      },
      "outputs": [
        {
          "output_type": "execute_result",
          "data": {
            "text/plain": [
              "(157200, 2)"
            ]
          },
          "metadata": {},
          "execution_count": 49
        }
      ],
      "source": [
        "#df_d=pd.read_csv('5_d.csv')\n",
        "df_d.head()\n",
        "df_d.shape"
      ]
    },
    {
      "cell_type": "code",
      "execution_count": 50,
      "metadata": {
        "id": "uRhL1pheAfCe",
        "outputId": "ad33c63d-12c0-4db8-f79b-f911e4a8c55f",
        "colab": {
          "base_uri": "https://localhost:8080/"
        }
      },
      "outputs": [
        {
          "output_type": "execute_result",
          "data": {
            "text/plain": [
              "177.16569974554707"
            ]
          },
          "metadata": {},
          "execution_count": 50
        }
      ],
      "source": [
        "# 1. Mean Square Error\n",
        "def mean_sq_err(d):\n",
        "    y, y_hat = d.columns\n",
        "    return pow(d[y] - d[y_hat], 2).sum() / d.shape[0]\n",
        "\n",
        "mean_sq_err(df_d)"
      ]
    },
    {
      "cell_type": "code",
      "execution_count": 51,
      "metadata": {
        "id": "Dy56Yg4JWvWX",
        "outputId": "83f0c829-62bd-4bee-8e39-b452331787c5",
        "colab": {
          "base_uri": "https://localhost:8080/"
        }
      },
      "outputs": [
        {
          "output_type": "execute_result",
          "data": {
            "text/plain": [
              "0.1291202994009687"
            ]
          },
          "metadata": {},
          "execution_count": 51
        }
      ],
      "source": [
        "# 2. MAPE (Mean Absolute Percentage Error)\n",
        "def mape(d):\n",
        "    y, y_hat = d.columns\n",
        "    err = (d[y_hat] - d[y]).abs() \n",
        "    return sum(err) / sum(d[y].abs())\n",
        "\n",
        "mape(df_d)"
      ]
    },
    {
      "cell_type": "code",
      "execution_count": 52,
      "metadata": {
        "id": "Fe6JY7OxWvWZ",
        "outputId": "a1b6391c-626f-453d-d40d-24bac06ac5e4",
        "colab": {
          "base_uri": "https://localhost:8080/"
        }
      },
      "outputs": [
        {
          "output_type": "execute_result",
          "data": {
            "text/plain": [
              "0.9544134826849505"
            ]
          },
          "metadata": {},
          "execution_count": 52
        }
      ],
      "source": [
        "def r_square(d):\n",
        "    y, y_hat = d.columns\n",
        "    mean = d[y].mean()\n",
        "    \n",
        "    ss_total = sum((d[y_hat] - mean)**2)\n",
        "    ss_residue = sum((d[y_hat] - d[y])**2)\n",
        "    \n",
        "    return 1 - ss_residue/ss_total\n",
        "\n",
        "r_square(df_d)"
      ]
    },
    {
      "cell_type": "code",
      "execution_count": null,
      "metadata": {
        "id": "xbekpaq2WvWa"
      },
      "outputs": [],
      "source": []
    }
  ],
  "metadata": {
    "colab": {
      "provenance": []
    },
    "kernelspec": {
      "display_name": "Python 3 (ipykernel)",
      "language": "python",
      "name": "python3"
    },
    "language_info": {
      "codemirror_mode": {
        "name": "ipython",
        "version": 3
      },
      "file_extension": ".py",
      "mimetype": "text/x-python",
      "name": "python",
      "nbconvert_exporter": "python",
      "pygments_lexer": "ipython3",
      "version": "3.9.12"
    }
  },
  "nbformat": 4,
  "nbformat_minor": 0
}