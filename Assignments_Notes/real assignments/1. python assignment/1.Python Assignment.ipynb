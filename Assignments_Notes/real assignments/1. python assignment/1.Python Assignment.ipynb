{
 "cells": [
  {
   "cell_type": "markdown",
   "metadata": {
    "colab_type": "text",
    "id": "l0ZzOlyxB-kf"
   },
   "source": [
    "<h1>Python: without numpy or sklearn </h1>"
   ]
  },
  {
   "cell_type": "markdown",
   "metadata": {
    "colab_type": "text",
    "id": "C0xO8JV9B-ki"
   },
   "source": [
    "<h3> Q1: Given two matrices please print the product of those two matrices </h3>\n",
    "<pre>\n",
    "\n",
    "Ex 1: A   = [[1 3 4]\n",
    "             [2 5 7]\n",
    "             [5 9 6]]\n",
    "      B   = [[1 0 0]\n",
    "             [0 1 0]\n",
    "             [0 0 1]]\n",
    "      A*B = [[1 3 4]\n",
    "             [2 5 7]\n",
    "             [5 9 6]]\n",
    "\n",
    "     \n",
    "Ex 2: A   = [[1 2]\n",
    "             [3 4]]\n",
    "      B   = [[1 2 3 4 5]\n",
    "             [5 6 7 8 9]]\n",
    "      A*B = [[11 14 17 20 23]\n",
    "             [23 30 36 42 51]]\n",
    "             \n",
    "Ex 3: A   = [[1 2]\n",
    "             [3 4]]\n",
    "      B   = [[1 4]\n",
    "             [5 6]\n",
    "             [7 8]\n",
    "             [9 6]]\n",
    "      A*B =Not possible\n",
    "</pre>"
   ]
  },
  {
   "cell_type": "code",
   "execution_count": 34,
   "metadata": {
    "colab": {},
    "colab_type": "code",
    "id": "rnssAfpgB-kj"
   },
   "outputs": [
    {
     "data": {
      "text/plain": [
       "[[11, 14, 17, 20, 23], [23, 30, 37, 44, 51]]"
      ]
     },
     "execution_count": 34,
     "metadata": {},
     "output_type": "execute_result"
    }
   ],
   "source": [
    "from operator import mul\n",
    "\n",
    "# here A and B are list of lists\n",
    "def matrix_mul(A, B):\n",
    "    # transpose of a matrix B to get column at a time\n",
    "    *B_t, = zip(*B)\n",
    "    # calculate mat-mul i.e row_of_A * col_of_B at a time\n",
    "    return [[sum(map(mul, r_a, c_b)) for c_b in B_t]  for r_a in A]\n",
    "\n",
    "A = [[1,2], [3,4]]\n",
    "B = [[1,2,3,4,5], [5,6,7,8,9]]\n",
    "matrix_mul(A, B)"
   ]
  },
  {
   "cell_type": "markdown",
   "metadata": {
    "colab_type": "text",
    "id": "at4VwLggB-kn"
   },
   "source": [
    "<h3> Q2: Select a number randomly with probability proportional to its magnitude from the given array of n elements</h3>\n",
    "\n",
    "consider an experiment, selecting an element from the list A randomly with probability proportional to its magnitude.\n",
    "assume we are doing the same experiment for 100 times with replacement, in each experiment you will print a number that is selected randomly from A.\n",
    "\n",
    "<pre>\n",
    "Ex 1: A = [0 5 27 6 13 28 100 45 10 79]\n",
    "let f(x) denote the number of times x getting selected in 100 experiments.\n",
    "f(100) > f(79) > f(45) > f(28) > f(27) > f(13) > f(10) > f(6) > f(5) > f(0)\n",
    "</pre>"
   ]
  },
  {
   "cell_type": "code",
   "execution_count": 33,
   "metadata": {
    "colab": {},
    "colab_type": "code",
    "id": "B6S2dpBhB-kn"
   },
   "outputs": [
    {
     "name": "stdout",
     "output_type": "stream",
     "text": [
      "Probabilities :\n",
      "100 ->  31.78 %\n",
      "79 ->  25.41 %\n",
      "45 ->  14.42 %\n",
      "28 ->  8.84 %\n",
      "27 ->  8.58 %\n",
      "13 ->  4.23 %\n",
      "10 ->  3.21 %\n",
      "6 ->  1.91 %\n",
      "5 ->  1.63 %\n",
      "0 ->  0.00 %\n"
     ]
    }
   ],
   "source": [
    "from random import random\n",
    "from itertools import accumulate\n",
    "\n",
    "def ceil(l, target):\n",
    "    '''\n",
    "        Compute the interval upper-bound for target via binary search\n",
    "    '''\n",
    "    s = len(l)\n",
    "    start, end = 0, s - 1\n",
    "    while start <= end:\n",
    "        mid = start + ((end - start) // 2)\n",
    "        if target == l[mid]:\n",
    "            return mid\n",
    "        if target > l[mid]:\n",
    "            start = mid + 1\n",
    "        else:\n",
    "            end = mid - 1\n",
    "    return start\n",
    "\n",
    "def pick_a_number_from_list(lst):\n",
    "    '''\n",
    "        Proportional Sampling Case\n",
    "    '''\n",
    "    # step1 - sum of all numbers\n",
    "    s = sum(lst)\n",
    "    # step2 - normalize all numbers\n",
    "    n_lst = [e/s for e in lst]\n",
    "    # step3 - accumulate\n",
    "    *cum_norm_sum, = accumulate(n_lst)\n",
    "    # step4 - find proper ceil idx\n",
    "    idx = ceil(cum_norm_sum, random())\n",
    "    selected_random_number = lst[idx]\n",
    "\n",
    "    return selected_random_number\n",
    "\n",
    "def sampling_based_on_magnitued(l, ntimes):\n",
    "    '''\n",
    "        Proportional sampling via theoretical formulation via cumulative sums & ratios\n",
    "    '''\n",
    "    d = dict.fromkeys(l, 0) # to keep track of freq of each member during testing\n",
    "    r = ntimes  # times to perform test\n",
    "    for i in range(1,r+1): # test\n",
    "        number = pick_a_number_from_list(A)\n",
    "        d[number] += 1\n",
    "    print('Probabilities :')\n",
    "\n",
    "    pairs = sorted(d.items(), key=lambda x: x[1], reverse=True)\n",
    "    for pair in pairs:\n",
    "        print(pair[0], '-> ', format(pair[1]*100/r, '.2f'), '%')\n",
    "\n",
    "A = [0, 5, 27, 6, 13, 28, 100, 45, 10, 79]\n",
    "sampling_based_on_magnitued(A, 100000)"
   ]
  },
  {
   "cell_type": "markdown",
   "metadata": {
    "colab_type": "text",
    "id": "D1xQy2WWB-kq"
   },
   "source": [
    "<h3> Q3: Replace the digits in the string with #</h3>\n",
    "\n",
    "consider a string that will have digits in that, we need to remove all the not digits and replace the digits with #\n",
    "<pre>\n",
    "Ex 1: A = 234                Output: ###\n",
    "Ex 2: A = a2b3c4             Output: ###\n",
    "Ex 3: A = abc                Output:   (empty string)\n",
    "Ex 5: A = #2a$#b%c%561#      Output: ####\n",
    "</pre>"
   ]
  },
  {
   "cell_type": "code",
   "execution_count": 29,
   "metadata": {
    "colab": {},
    "colab_type": "code",
    "id": "fxczi2jzB-kr"
   },
   "outputs": [
    {
     "data": {
      "text/plain": [
       "'###'"
      ]
     },
     "execution_count": 29,
     "metadata": {},
     "output_type": "execute_result"
    }
   ],
   "source": [
    "import re\n",
    "\n",
    "def replace_digits(String):\n",
    "    pattern = r\"[^\\d]\"\n",
    "    repl = \"\"\n",
    "    result = re.sub(pattern, repl, String, 0)\n",
    "    return '#'*len(result)\n",
    "\n",
    "A = '234'\n",
    "replace_digits(A)"
   ]
  },
  {
   "cell_type": "markdown",
   "metadata": {
    "colab_type": "text",
    "id": "j7h0Ywg7B-kw"
   },
   "source": [
    "<h3> Q4: Students marks dashboard</h3>\n",
    "\n",
    "consider the marks list of class students given two lists <br>\n",
    "Students = ['student1','student2','student3','student4','student5','student6','student7','student8','student9','student10'] <br>\n",
    "Marks = [45, 78, 12, 14, 48, 43, 45, 98, 35, 80] <br>\n",
    "from the above two lists the Student[0] got Marks[0],  Student[1] got Marks[1] and so on <br><br>\n",
    "your task is to print the name of students\n",
    "<strong>a. Who got top 5 ranks, in the descending order of marks</strong> <br>\n",
    "<strong>b. Who got least 5 ranks, in the increasing order of marks</strong><br>\n",
    "<strong>d. Who got marks between  &gt;25th percentile &lt;75th percentile, in the increasing order of marks</strong>\n",
    "\n",
    "<pre>\n",
    "Ex 1: \n",
    "Students=['student1','student2','student3','student4','student5','student6','student7','student8','student9','student10'] \n",
    "Marks = [45, 78, 12, 14, 48, 43, 47, 98, 35, 80]\n",
    "a. \n",
    "student8  98\n",
    "student10 80\n",
    "student2  78\n",
    "student5  48\n",
    "student7  47\n",
    "b.\n",
    "student3 12\n",
    "student4 14\n",
    "student9 35\n",
    "student6 43\n",
    "student1 45\n",
    "c.\n",
    "student9 35\n",
    "student6 43\n",
    "student1 45\n",
    "student7 47\n",
    "student5 48\n",
    "</pre>"
   ]
  },
  {
   "cell_type": "code",
   "execution_count": 36,
   "metadata": {
    "colab": {},
    "colab_type": "code",
    "id": "cxPJgItsB-kx"
   },
   "outputs": [
    {
     "data": {
      "text/plain": [
       "(['student8', 'student10', 'student2', 'student5', 'student7'],\n",
       " ['student3', 'student4', 'student9', 'student6', 'student1'],\n",
       " ['student9', 'student6', 'student1', 'student7', 'student5'])"
      ]
     },
     "execution_count": 36,
     "metadata": {},
     "output_type": "execute_result"
    }
   ],
   "source": [
    "def ceil(l, target):\n",
    "    '''\n",
    "        Compute the interval upper-bound for target via binary search\n",
    "    '''\n",
    "    s = len(l)\n",
    "    start, end = 0, s - 1\n",
    "    while start <= end:\n",
    "        mid = start + ((end - start) // 2)\n",
    "        if target == l[mid]:\n",
    "            return mid\n",
    "        if target > l[mid]:\n",
    "            start = mid + 1\n",
    "        else: \n",
    "            end = mid - 1\n",
    "    return start\n",
    "\n",
    "def floor(l, target):\n",
    "    '''\n",
    "        Compute the interval upper-bound for target via binary search\n",
    "    '''\n",
    "    s = len(l)\n",
    "    start, end = 0, s - 1\n",
    "    while start <= end:\n",
    "        mid = start + ((end - start) // 2)\n",
    "        if target == l[mid]:\n",
    "            return mid\n",
    "        if target > l[mid]:\n",
    "            start = mid + 1  \n",
    "        else:\n",
    "            end = mid - 1\n",
    "            \n",
    "    return end\n",
    "\n",
    "def display_dash_board(students, marks):\n",
    "    size = len(marks)\n",
    "    # list of indices based on sorted marks\n",
    "    marks_argi = sorted(range(size), key=marks.__getitem__)\n",
    "\n",
    "    # write code for computing top top 5 students\n",
    "    top_5_students = [students[i] for i in marks_argi[-1:-6:-1]]\n",
    "    # write code for computing top least 5 students\n",
    "    least_5_students = [students[i] for i in marks_argi[:5]]\n",
    "    # write code for computing top least 5 students\n",
    "    low, high = marks[marks_argi[0]], marks[marks_argi[-1]]\n",
    "    d = high - low\n",
    "    l = (0.25 * d) + low  # 25th percentile\n",
    "    h = (0.75 * d) + low  # 75th percentile\n",
    "    marks_s = [marks[i] for i in marks_argi]\n",
    "    idx_l, idx_u = ceil(marks_s, l), floor(marks_s, h) # lower & upper bound for descend\n",
    "    students_within_25_and_75 = [students[i] for i in marks_argi[idx_l:idx_u+1]]\n",
    "\n",
    "    return top_5_students, least_5_students, students_within_25_and_75\n",
    "\n",
    "Students=['student1','student2','student3','student4','student5','student6','student7','student8','student9','student10'] \n",
    "Marks = [45, 78, 12, 14, 48, 43, 47, 98, 35, 80]\n",
    "display_dash_board(Students, Marks)"
   ]
  },
  {
   "cell_type": "markdown",
   "metadata": {
    "colab_type": "text",
    "id": "qha0OhQHB-k1"
   },
   "source": [
    "<h3> Q5: Find the closest points</h3>\n",
    "\n",
    "consider you have given n data points in the form of list of tuples like S=[(x1,y1),(x2,y2),(x3,y3),(x4,y4),(x5,y5),..,(xn,yn)] and a point P=(p,q) <br> your task is to find 5 closest points(based on cosine distance) in S from P\n",
    "<br>cosine distance between two points (x,y) and (p,q) is defind as $cos^{-1}(\\frac{(x\\cdot p+y\\cdot q)}{\\sqrt(x^2+y^2)\\cdot\\sqrt(p^2+q^2)})$\n",
    "<pre>\n",
    "Ex:\n",
    "\n",
    "S= [(1,2),(3,4),(-1,1),(6,-7),(0, 6),(-5,-8),(-1,-1)(6,0),(1,-1)]\n",
    "P= (3,-4)\n",
    "<img src='https://i.imgur.com/vIFPOcG.jpg', width=300>\n",
    "Output:\n",
    "(6,-7)\n",
    "(1,-1)\n",
    "(6,0)\n",
    "(-5,-8)\n",
    "(-1,-1)\n",
    "</pre>"
   ]
  },
  {
   "cell_type": "code",
   "execution_count": 16,
   "metadata": {
    "colab": {},
    "colab_type": "code",
    "id": "wA5I1g-2B-k2"
   },
   "outputs": [
    {
     "name": "stdout",
     "output_type": "stream",
     "text": [
      "[(6, -7), (1, -1), (6, 0), (-5, -8), (-1, -1)]\n"
     ]
    }
   ],
   "source": [
    "import math\n",
    "import itertools\n",
    "\n",
    "def calc_cos_sim(x,y):\n",
    "    ''' \n",
    "    calculate the cosine similarity (ie in terms of anngle diff) between 2 vectors x & y \n",
    "    NOTE : return metric is in radian & not angle for simplicity\n",
    "    '''\n",
    "    n = x[0]*y[0] + x[1]*y[1]\n",
    "    d = math.sqrt((x[0]**2 + x[1]**2) * (y[0]**2 + y[1]**2))\n",
    "    cos_sim = math.acos(n/d)\n",
    "    return cos_sim\n",
    "\n",
    "# here S is list of tuples and P is a tuple ot len=2\n",
    "def closest_points_to_p(S, P):\n",
    "    cos_dist = [round(calc_cos_sim(X,P),2) for X in S] # cos-sim between p & all X\n",
    "    # get first closest point to P\n",
    "    closest_points_to_p = itertools.islice(map(S.__getitem__, sorted(range(len(S)), key=cos_dist.__getitem__)),5)\n",
    "    return closest_points_to_p  # its list of tuples\n",
    "\n",
    "S= [(1,2),(3,4),(-1,1),(6,-7),(0,6),(-5,-8),(-1,-1),(6,0),(1,-1)]\n",
    "P= (3,-4)\n",
    "*points, = closest_points_to_p(S, P)\n",
    "print(points) #print the returned values"
   ]
  },
  {
   "cell_type": "markdown",
   "metadata": {
    "colab_type": "text",
    "id": "-g11jeAiB-k5"
   },
   "source": [
    "<h3> Q6: Find Which line separates oranges and apples</h3>\n",
    "consider you have given two set of data points in the form of list of tuples like \n",
    "<pre>\n",
    "Red =[(R11,R12),(R21,R22),(R31,R32),(R41,R42),(R51,R52),..,(Rn1,Rn2)]\n",
    "Blue=[(B11,B12),(B21,B22),(B31,B32),(B41,B42),(B51,B52),..,(Bm1,Bm2)]\n",
    "</pre>\n",
    "and set of line equations(in the string formate, i.e list of strings)\n",
    "<pre>\n",
    "Lines = [a1x+b1y+c1,a2x+b2y+c2,a3x+b3y+c3,a4x+b4y+c4,..,K lines]\n",
    "Note: you need to string parsing here and get the coefficients of x,y and intercept\n",
    "</pre>\n",
    "your task is to for each line that is given print \"YES\"/\"NO\", you will print yes, if all the red points are one side of the line and blue points are other side of the line, otherwise no\n",
    "<pre>\n",
    "Ex:\n",
    "Red= [(1,1),(2,1),(4,2),(2,4), (-1,4)]\n",
    "Blue= [(-2,-1),(-1,-2),(-3,-2),(-3,-1),(1,-3)]\n",
    "Lines=[\"1x+1y+0\",\"1x-1y+0\",\"1x+0y-3\",\"0x+1y-0.5\"]\n",
    "<img src='https://i.imgur.com/DoQf7mE.jpg' width=400>\n",
    "Output:\n",
    "YES\n",
    "NO\n",
    "NO\n",
    "YES\n",
    "</pre>"
   ]
  },
  {
   "cell_type": "code",
   "execution_count": 17,
   "metadata": {
    "colab": {},
    "colab_type": "code",
    "id": "eRxExaTRB-k6"
   },
   "outputs": [
    {
     "name": "stdout",
     "output_type": "stream",
     "text": [
      "YES\n",
      "NO\n",
      "NO\n",
      "YES\n"
     ]
    }
   ],
   "source": [
    "import math\n",
    "import re\n",
    "from itertools import zip_longest\n",
    "from operator import mul\n",
    "import itertools as it\n",
    "\n",
    "def extract_weights(s: str):\n",
    "    ''' return the coefficients of eqn of form ax+by+c '''\n",
    "    # TODO make pattern for nD general\n",
    "    pattern = r\"(.+)x(.+)y(.+)\"  # for 2D only\n",
    "    m = re.match(pattern, s)\n",
    "    return list(map(eval, [m.group(1), m.group(2), m.group(3)])) if m else None\n",
    "\n",
    "def extract_coeff(s: str):\n",
    "    pattern = r'[a-zA-Z]+'\n",
    "    s = re.sub(pattern, \" \", s)\n",
    "    return list(map(eval, s.split()))\n",
    "\n",
    "def fit_to_line_sign(pt, eqn):\n",
    "    ''' Apply the eqn to pt & return the sign of magnitude '''\n",
    "    v = sum(it.starmap(mul, zip_longest(eqn, pt, fillvalue=1)))\n",
    "    return math.copysign(1, v)\n",
    "\n",
    "def i_am_the_one(red,blue,line):\n",
    "    # extract the coefficients from line equation [a, b, c]\n",
    "    w = extract_weights(line)\n",
    "\n",
    "    # get only signs of eqn fit for all pts belonging to red\n",
    "    red_signs = map(lambda r: fit_to_line_sign(r, w), red)\n",
    "    sign = 0\n",
    "    for i in red_signs:\n",
    "        if not sign and i:\n",
    "            sign = i\n",
    "        elif not (i + sign): # conflicts in red grp\n",
    "            return \"NO\"\n",
    "    \n",
    "    # get only signs of eqn fit for all pts belonging to blue\n",
    "    blue_signs = map(lambda b: fit_to_line_sign(b, w), blue)\n",
    "    sign = 0\n",
    "    for i in blue_signs:\n",
    "        if not sign and i:\n",
    "            sign = i\n",
    "        elif not (i + sign): # conflicts in red grp\n",
    "            return \"NO\"\n",
    "\n",
    "    return \"YES\"\n",
    "\n",
    "Red= [(1,1),(2,1),(4,2),(2,4),(-1,4)]\n",
    "Blue= [(-2,-1),(-1,-2),(-3,-2),(-3,-1),(1,-3)]\n",
    "Lines=[\"1x+1y+0\",\"1x-1y+0\",\"1x+0y-3\",\"0x+1y-0.5\"]\n",
    "\n",
    "for i in Lines:\n",
    "    yes_or_no = i_am_the_one(Red, Blue, i)\n",
    "    print(yes_or_no) # the returned value"
   ]
  },
  {
   "cell_type": "markdown",
   "metadata": {
    "colab_type": "text",
    "id": "9OBpURbNB-k9"
   },
   "source": [
    "<h3> Q7: Filling the missing values in the specified formate</h3>\n",
    "You will be given a string with digits and '\\_'(missing value) symbols you have to replace the '\\_' symbols as explained \n",
    "<pre>\n",
    "Ex 1: _, _, _, 24 ==> 24/4, 24/4, 24/4, 24/4 i.e we. have distributed the 24 equally to all 4 places <br>\n",
    "Ex 2: 40, _, _, _, 60 ==> (60+40)/5,(60+40)/5,(60+40)/5,(60+40)/5,(60+40)/5 ==> 20, 20, 20, 20, 20 i.e. the sum of (60+40) is distributed qually to all 5 places<br>\n",
    "Ex 3: 80, _, _, _, _  ==> 80/5,80/5,80/5,80/5,80/5 ==> 16, 16, 16, 16, 16 i.e. the 80 is distributed qually to all 5 missing values that are right to it<br>\n",
    "Ex 4: _, _, 30, _, _, _, 50, _, _  \n",
    "==> we will fill the missing values from left to right \n",
    "    a. first we will distribute the 30 to left two missing values (10, 10, 10, _, _, _, 50, _, _)\n",
    "    b. now distribute the sum (10+50) missing values in between (10, 10, 12, 12, 12, 12, 12, _, _) \n",
    "    c. now we will distribute 12 to right side missing values (10, 10, 12, 12, 12, 12, 4, 4, 4)\n",
    "</pre>\n",
    "for a given string with comma seprate values, which will have both missing values numbers like ex: \"_, _, x, _, _, _\"\n",
    "you need fill the missing values\n",
    "\n",
    "Q: your program reads a string like ex: \"_, _, x, _, _, _\" and returns the filled sequence\n",
    "\n",
    "Ex: \n",
    "<pre>\n",
    "Input1: \"_,_,_,24\"\n",
    "Output1: 6,6,6,6\n",
    "\n",
    "Input2: \"40,_,_,_,60\"\n",
    "Output2: 20,20,20,20,20\n",
    "\n",
    "Input3: \"80,_,_,_,_\"\n",
    "Output3: 16,16,16,16,16\n",
    "\n",
    "Input4: \"_,_,30,_,_,_,50,_,_\"\n",
    "Output4: 10,10,12,12,12,12,4,4,4\n",
    "</pre>\n",
    "\n"
   ]
  },
  {
   "cell_type": "code",
   "execution_count": 19,
   "metadata": {
    "colab": {},
    "colab_type": "code",
    "id": "nZmpzHs_B-k-"
   },
   "outputs": [
    {
     "name": "stdout",
     "output_type": "stream",
     "text": [
      "10,10,12,12,12,12,4,4,4\n"
     ]
    }
   ],
   "source": [
    "def curve_smoothing(string):\n",
    "    '''\n",
    "    Goal :- Divide the left & right val to in between _\n",
    "    Idea ;- left & right pointer with right as leading to left\n",
    "    Time :- complexity O(n^2)\n",
    "    '''\n",
    "    # get each character by removing the commas\n",
    "    s = string.split(',')\n",
    "    size = len(s)\n",
    "\n",
    "    if size <= 1: # edge case\n",
    "        return string\n",
    "\n",
    "    lp = 0   # left Pointer\n",
    "    # Check At Start (Edge Case 1 ie '_' or num)\n",
    "    if s[0] != '_': # decide left value\n",
    "        lv = s[0] = int(s[0])\n",
    "    else:\n",
    "        lv = 0 \n",
    "\n",
    "    for i, c in enumerate(s[1:], 1):\n",
    "        if c != '_' and i != lp+1:  # fill space required\n",
    "            r = int(c)  # right value\n",
    "            cnt = i - lp + 1 # no. of character needs to be altered\n",
    "            v = (r + lv) // cnt  # value needs to be fill at @cnt places\n",
    "            s[lp:i+1] = [v]*cnt # alteration\n",
    "            lp, lv = i, v  # update left ptr & left val\n",
    "\n",
    "    # Check At End (Edge Case 2 ie '_' or num)\n",
    "    if lp != size-1: # if last character is '_'\n",
    "        cnt = size-lp \n",
    "        v = s[lp] // cnt \n",
    "        s[lp:] = [v]*cnt\n",
    "            \n",
    "    return ','.join(map(str, s))\n",
    "\n",
    "S=  \"_,_,30,_,_,_,50,_,_\"\n",
    "smoothed_values= curve_smoothing(S)\n",
    "print(smoothed_values)"
   ]
  },
  {
   "cell_type": "markdown",
   "metadata": {
    "colab_type": "text",
    "id": "RBz4pzlfB-lB"
   },
   "source": [
    "<h3> Q8: Filling the missing values in the specified formate</h3>\n",
    "You will be given a list of lists, each sublist will be of length 2 i.e. [[x,y],[p,q],[l,m]..[r,s]]\n",
    "consider its like a martrix of n rows and two columns\n",
    "1. the first column F will contain only 5 uniques values (F1, F2, F3, F4, F5)\n",
    "2. the second column S will contain only 3 uniques values (S1, S2, S3)\n",
    "<pre>\n",
    "your task is to find\n",
    "a. Probability of P(F=F1|S==S1), P(F=F1|S==S2), P(F=F1|S==S3)\n",
    "b. Probability of P(F=F2|S==S1), P(F=F2|S==S2), P(F=F2|S==S3)\n",
    "c. Probability of P(F=F3|S==S1), P(F=F3|S==S2), P(F=F3|S==S3)\n",
    "d. Probability of P(F=F4|S==S1), P(F=F4|S==S2), P(F=F4|S==S3)\n",
    "e. Probability of P(F=F5|S==S1), P(F=F5|S==S2), P(F=F5|S==S3)\n",
    "</pre>\n",
    "Ex:\n",
    "\n",
    "<pre>\n",
    "[[F1,S1],[F2,S2],[F3,S3],[F1,S2],[F2,S3],[F3,S2],[F2,S1],[F4,S1],[F4,S3],[F5,S1]]\n",
    "\n",
    "a. P(F=F1|S==S1)=1/4, P(F=F1|S==S2)=1/3, P(F=F1|S==S3)=0/3\n",
    "b. P(F=F2|S==S1)=1/4, P(F=F2|S==S2)=1/3, P(F=F2|S==S3)=1/3\n",
    "c. P(F=F3|S==S1)=0/4, P(F=F3|S==S2)=1/3, P(F=F3|S==S3)=1/3\n",
    "d. P(F=F4|S==S1)=1/4, P(F=F4|S==S2)=0/3, P(F=F4|S==S3)=1/3\n",
    "e. P(F=F5|S==S1)=1/4, P(F=F5|S==S2)=0/3, P(F=F5|S==S3)=0/3\n",
    "</pre>\n",
    "\n",
    "\n"
   ]
  },
  {
   "cell_type": "code",
   "execution_count": 20,
   "metadata": {
    "colab": {},
    "colab_type": "code",
    "id": "e-1giz1MB-lC"
   },
   "outputs": [
    {
     "name": "stdout",
     "output_type": "stream",
     "text": [
      "P(F=F1|S==S1)=1/4, P(F=F1|S==S2)=1/3, P(F=F1|S==S3)=0/3, \n",
      "P(F=F4|S==S1)=1/4, P(F=F4|S==S2)=0/3, P(F=F4|S==S3)=1/3, \n",
      "P(F=F5|S==S1)=1/4, P(F=F5|S==S2)=0/3, P(F=F5|S==S3)=0/3, \n",
      "P(F=F2|S==S1)=1/4, P(F=F2|S==S2)=1/3, P(F=F2|S==S3)=1/3, \n",
      "P(F=F3|S==S1)=0/4, P(F=F3|S==S2)=1/3, P(F=F3|S==S3)=1/3, \n"
     ]
    }
   ],
   "source": [
    "from collections import defaultdict\n",
    "from fractions import Fraction\n",
    "\n",
    "# you can free to change all these codes/structure\n",
    "def compute_conditional_probabilites(A):\n",
    "    '''\n",
    "        P(A|B) = P(A.intersect(B)) / P(B)\n",
    "    '''\n",
    "    \n",
    "    dm = defaultdict(lambda : defaultdict(int))  # data matrix for f.intersect(b) freq cnt\n",
    "    n = len(A) # rows\n",
    "\n",
    "    freq_s = defaultdict(int) # freq cnt for second col\n",
    "\n",
    "    s1 = set() # unique vals\n",
    "\n",
    "    for r, c in A:  # compute necessary probabilities\n",
    "        freq_s[c] += 1\n",
    "        dm[r][c] += 1\n",
    "        s1.add(r)\n",
    "\n",
    "    for i in s1:\n",
    "        for j in freq_s.keys():\n",
    "            #ans = Fraction(dm[i][j], freq_s[j]) if dm[i][j] and freq_s[j] else f'{dm[i][j]}/{freq_s[j]}'\n",
    "            if dm[i][j] and freq_s[j]: \n",
    "                ans = Fraction(dm[i][j], freq_s[j]) \n",
    "            else:\n",
    "                ans = f'{dm[i][j]}/{freq_s[j]}'\n",
    "                \n",
    "            print(f'P(F={i}|S=={j})={ans}', end= ', ')\n",
    "        print()\n",
    "    \n",
    "\n",
    "A = [['F1','S1'],['F2','S2'],['F3','S3'],['F1','S2'],['F2','S3'],['F3','S2'],['F2','S1'],['F4','S1'],['F4','S3'],['F5','S1']]\n",
    "\n",
    "compute_conditional_probabilites(A)"
   ]
  },
  {
   "cell_type": "markdown",
   "metadata": {
    "colab_type": "text",
    "id": "n4HS87QmB-lF"
   },
   "source": [
    "<h3> Q9: Given two sentances S1, S2</h3>\n",
    "You will be given two sentances S1, S2 your task is to find \n",
    "<pre>\n",
    "a. Number of common words between S1, S2\n",
    "b. Words in S1 but not in S2\n",
    "c. Words in S2 but not in S1\n",
    "</pre>\n",
    "\n",
    "Ex: \n",
    "<pre>\n",
    "S1= \"the first column F will contain only 5 uniques values\"\n",
    "S2= \"the second column S will contain only 3 uniques values\"\n",
    "Output:\n",
    "a. 7\n",
    "b. ['first','F','5']\n",
    "c. ['second','S','3']\n",
    "</pre>"
   ]
  },
  {
   "cell_type": "code",
   "execution_count": 23,
   "metadata": {
    "colab": {},
    "colab_type": "code",
    "id": "Ez7hlHK0B-lG"
   },
   "outputs": [
    {
     "name": "stdout",
     "output_type": "stream",
     "text": [
      "a : 7\n",
      "b : {'5', 'F', 'first'}\n",
      "c : {'3', 'S', 'second'}\n"
     ]
    }
   ],
   "source": [
    "def string_features(S1, S2):\n",
    "    ''' find common & disjoint words '''\n",
    "    pattern = r'\\s+'\n",
    "    re_c = re.compile(pattern)\n",
    "\n",
    "    s1_words = set(re_c.split(S1))\n",
    "    s2_words = set(re_c.split(S2))\n",
    "    common = s1_words.intersection(s2_words)\n",
    "\n",
    "    a = len(common)\n",
    "    b = s1_words.difference(common)\n",
    "    c = s2_words.difference(common) \n",
    "    \n",
    "    return a, b, c\n",
    "\n",
    "S1= \"the first column F will contain only 5 uniques values\"\n",
    "S2= \"the second column S will contain only 3 uniques values\"\n",
    "a,b,c = string_features(S1, S2)\n",
    "print('a :', a)\n",
    "print('b :', b)\n",
    "print('c :', c)"
   ]
  },
  {
   "cell_type": "markdown",
   "metadata": {
    "colab_type": "text",
    "id": "XefXVEjCB-lI"
   },
   "source": [
    "<h3> Q10: Given two sentances S1, S2</h3>\n",
    "You will be given a list of lists, each sublist will be of length 2 i.e. [[x,y],[p,q],[l,m]..[r,s]]\n",
    "consider its like a martrix of n rows and two columns\n",
    "\n",
    "a. the first column Y will contain interger values <br>\n",
    "b. the second column $Y_{score}$ will be having float values <br>\n",
    "Your task is to find the value of $f(Y,Y_{score}) = -1*\\frac{1}{n}\\Sigma_{for each Y,Y_{score} pair}(Ylog10(Y_{score})+(1-Y)log10(1-Y_{score}))$ here n is the number of rows in the matrix\n",
    "<pre>\n",
    "Ex:\n",
    "[[1, 0.4], [0, 0.5], [0, 0.9], [0, 0.3], [0, 0.6], [1, 0.1], [1, 0.9], [1, 0.8]]\n",
    "output:\n",
    "0.4243099\n",
    "</pre>\n",
    "$\\frac{-1}{8}\\cdot((1\\cdot log_{10}(0.4)+0\\cdot log_{10}(0.6))+(0\\cdot log_{10}(0.5)+1\\cdot log_{10}(0.5)) + ... + (1\\cdot log_{10}(0.8)+0\\cdot log_{10}(0.2)) )$"
   ]
  },
  {
   "cell_type": "code",
   "execution_count": 26,
   "metadata": {
    "colab": {},
    "colab_type": "code",
    "id": "N9zkagyNB-lJ"
   },
   "outputs": [
    {
     "name": "stdout",
     "output_type": "stream",
     "text": [
      "0.42431\n"
     ]
    }
   ],
   "source": [
    "from math import log10\n",
    "def compute_log_loss(A):\n",
    "    '''\n",
    "        Formula := -1/n * sum(yi * log10(pi) + (1-yi) * log10(1-pi))\n",
    "    '''\n",
    "    if not A:\n",
    "        return 0\n",
    "    n = len(A)\n",
    "    loss = (-1/n)*sum(((y * log10(p)) + ((1-y) * log10(1-p)) for y, p in A))\n",
    "    return round(loss, 5)\n",
    "\n",
    "A = [[1, 0.4], [0, 0.5], [0, 0.9], [0, 0.3], [0, 0.6], [1, 0.1], [1, 0.9], [1, 0.8]]\n",
    "loss = compute_log_loss(A)\n",
    "print(loss)"
   ]
  }
 ],
 "metadata": {
  "colab": {
   "collapsed_sections": [],
   "name": "1.Python Assignment.ipynb",
   "provenance": []
  },
  "kernelspec": {
   "display_name": "Python 3",
   "language": "python",
   "name": "python3"
  },
  "language_info": {
   "codemirror_mode": {
    "name": "ipython",
    "version": 3
   },
   "file_extension": ".py",
   "mimetype": "text/x-python",
   "name": "python",
   "nbconvert_exporter": "python",
   "pygments_lexer": "ipython3",
   "version": "3.8.8"
  }
 },
 "nbformat": 4,
 "nbformat_minor": 1
}
