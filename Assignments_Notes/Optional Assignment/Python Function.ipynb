{
 "cells": [
  {
   "cell_type": "markdown",
   "id": "611400c1",
   "metadata": {},
   "source": [
    "**Q1)<br> Write a Function that inputs a number & prints the multiplication table of number**"
   ]
  },
  {
   "cell_type": "code",
   "execution_count": 48,
   "id": "3d35d91d",
   "metadata": {},
   "outputs": [
    {
     "name": "stdout",
     "output_type": "stream",
     "text": [
      "2 * 1 = 2\n",
      "2 * 2 = 4\n",
      "2 * 3 = 6\n",
      "2 * 4 = 8\n",
      "2 * 5 = 10\n",
      "2 * 6 = 12\n",
      "2 * 7 = 14\n",
      "2 * 8 = 16\n",
      "2 * 9 = 18\n",
      "2 * 10 = 20\n"
     ]
    }
   ],
   "source": [
    "def print_multiplication_table(n: int):\n",
    "    for i in range(1, 11):\n",
    "        print(f'{n} * {i} = {n*i}')\n",
    "        \n",
    "print_multiplication_table(2)"
   ]
  },
  {
   "cell_type": "markdown",
   "id": "2ec6321c",
   "metadata": {},
   "source": [
    "**Q2) <br>Write a Program to print twin primes less than 1000. Twin Primes : If 2 consecutive odd numbers are both primes then they are known as Twin Primes**"
   ]
  },
  {
   "cell_type": "code",
   "execution_count": 49,
   "id": "9fa16762",
   "metadata": {},
   "outputs": [
    {
     "name": "stdout",
     "output_type": "stream",
     "text": [
      "[2, 3, 5, 7, 11, 13, 17, 19, 29, 31, 41, 43, 59, 61, 71, 73, 101, 103, 107, 109, 137, 139, 149, 151, 179, 181, 191, 193, 197, 199, 227, 229, 239, 241, 269, 271, 281, 283, 311, 313, 347, 349, 419, 421, 431, 433, 461, 463, 521, 523, 569, 571, 599, 601, 617, 619, 641, 643, 659, 661, 809, 811, 821, 823, 827, 829, 857, 859, 881, 883]\n"
     ]
    }
   ],
   "source": [
    "import math\n",
    "\n",
    "def isPrime(n):\n",
    "    # Square Root Range\n",
    "    for i in range(2, math.isqrt(n) + 1):\n",
    "        if n % i == 0:\n",
    "            return False \n",
    "    return True\n",
    "\n",
    "def twin_prime(n):\n",
    "    '''2 consecutive odd prime num '''\n",
    "    ans = [2, 3]\n",
    "    last_prime = -1\n",
    "    for i in range(5, n, 2):\n",
    "        if isPrime(i):\n",
    "            if last_prime != -1:   # last prime needs pair\n",
    "                ans.extend((last_prime, i))\n",
    "                last_prime = -1\n",
    "            elif ans[-1] == i-2:  # last prime exists in list\n",
    "                ans.append(i)\n",
    "                last_prime = -1\n",
    "            else:\n",
    "                # this can be first number\n",
    "                last_prime = i\n",
    "        else:\n",
    "            last_prime = -1\n",
    "    return ans\n",
    "\n",
    "print(twin_prime(1000))"
   ]
  },
  {
   "cell_type": "markdown",
   "id": "15ed4258",
   "metadata": {},
   "source": [
    "**Q3) <br>Write a Program to Find out Prime Factors of Number. Example: prime factors of 56 - 2,2,2,7**"
   ]
  },
  {
   "cell_type": "code",
   "execution_count": 50,
   "id": "a68d1768",
   "metadata": {},
   "outputs": [
    {
     "name": "stdout",
     "output_type": "stream",
     "text": [
      "56 :- [2, 2, 2, 7]\n"
     ]
    }
   ],
   "source": [
    "import math\n",
    "from collections import defaultdict, Counter\n",
    "\n",
    "def prime_factors(n):\n",
    "    if n <= 1:\n",
    "        return None\n",
    "\n",
    "    d = defaultdict(int)\n",
    "    \n",
    "    # for all even numbers\n",
    "    while n % 2 == 0:\n",
    "        d[2] += 1\n",
    "        n = n // 2\n",
    "    \n",
    "    # for all odd numbers\n",
    "    i = 3\n",
    "    while n != 1:  # till we dont get entire number broken to single unit, divide it\n",
    "        while n % i == 0:\n",
    "            d[i] += 1\n",
    "            n = n // i \n",
    "        i += 2\n",
    "\n",
    "    return d  # Prime Factors with their Counts/Frequency\n",
    "\n",
    "n = 56\n",
    "*primeFactors, = Counter(prime_factors(n)).elements()\n",
    "print(f'{n} :- {primeFactors}')"
   ]
  },
  {
   "cell_type": "markdown",
   "id": "61562392",
   "metadata": {},
   "source": [
    "**Q4) : <br>\n",
    "Write a Program to Print Formula of Permutation & Combinations. <br> \n",
    "        Number of Permutations of n objects taken r at a time: p(n,r) = n!/(n-r)! <br>\n",
    "        Number of Combinations of n objects taken r at a time: c(n,r) = n!/(r! * (n-r)!) = p(n,r)/r!**"
   ]
  },
  {
   "cell_type": "code",
   "execution_count": 51,
   "id": "037664b3",
   "metadata": {},
   "outputs": [
    {
     "name": "stdout",
     "output_type": "stream",
     "text": [
      "permutation(n, r)=720.0\n",
      "combinations(n, r)=120.0\n"
     ]
    }
   ],
   "source": [
    "def fact(n):\n",
    "    ''' calculating factorial using non-tailed recursion '''\n",
    "    if n == 1:\n",
    "        return 1\n",
    "    if n == 2:\n",
    "        return 2\n",
    "    return n * fact(n-1)\n",
    "\n",
    "def permutation(n, r):\n",
    "    '''\n",
    "        p(n, r) = n! / (n-r)!\n",
    "    '''\n",
    "    return fact(n) / fact(n-r)\n",
    "\n",
    "def combinations(n, r):\n",
    "    '''\n",
    "        c(n, r) = n! / (r! * (n-r)!) \n",
    "                = p(n,r) / r!\n",
    "    '''\n",
    "    return permutation(n, r) / fact(r)\n",
    "\n",
    "n = 10\n",
    "r = 3\n",
    "print(f'{permutation(n, r)=}')\n",
    "print(f'{combinations(n, r)=}')"
   ]
  },
  {
   "cell_type": "markdown",
   "id": "cdb1432f",
   "metadata": {},
   "source": [
    "**_UTILS_** --->"
   ]
  },
  {
   "cell_type": "code",
   "execution_count": 52,
   "id": "b3c3a3f4",
   "metadata": {},
   "outputs": [],
   "source": [
    "def get_digits(n, func=None, base=10):\n",
    "    '''\n",
    "    :param n: number in decimal base 10\n",
    "    :param func: func to apply to each extracted digit based on {base}\n",
    "    :param base: base that needs to be considered whilst extracting digits\n",
    "    return generator of digits\n",
    "    if func provided then digit is mapped to that func & then returned\n",
    "    '''\n",
    "    while n:\n",
    "        n, r = divmod(n, base)\n",
    "        yield func(r) if func else r"
   ]
  },
  {
   "cell_type": "markdown",
   "id": "6f7c1015",
   "metadata": {},
   "source": [
    "**Q5) <br>\n",
    "Write a function to convert decimal to binary**"
   ]
  },
  {
   "cell_type": "code",
   "execution_count": 53,
   "id": "caf81632",
   "metadata": {},
   "outputs": [
    {
     "name": "stdout",
     "output_type": "stream",
     "text": [
      "1101\n"
     ]
    }
   ],
   "source": [
    "def decimal_to_binary(n):  # Just traverse in reverse order after doing LCM\n",
    "    return ''.join(map(str, get_digits(n, base=2)))[::-1]\n",
    "\n",
    "print(decimal_to_binary(13))"
   ]
  },
  {
   "cell_type": "markdown",
   "id": "4fced0bc",
   "metadata": {},
   "source": [
    "**Q6) <br>\n",
    "Write a function cubeSum() that accepts an integer and returns the sums of cubes of individual digits of that number. Use this function to make printArmstrong() & isArmstrong() to print armstrongs numbers**"
   ]
  },
  {
   "cell_type": "code",
   "execution_count": 54,
   "id": "b5bbc189",
   "metadata": {},
   "outputs": [
    {
     "name": "stdout",
     "output_type": "stream",
     "text": [
      "[1, 153, 370, 371, 407]\n"
     ]
    }
   ],
   "source": [
    "def cubesum(n):\n",
    "    return sum(get_digits(n, lambda x: x**3))\n",
    "\n",
    "def isArmStrong(n):\n",
    "    return n == cubesum(n)\n",
    "\n",
    "def printArmStrong(n):\n",
    "    *armStrongNums, =  filter(isArmStrong, range(1, n))\n",
    "    print(armStrongNums)\n",
    "    \n",
    "printArmStrong(1000)"
   ]
  },
  {
   "cell_type": "markdown",
   "id": "cc02f235",
   "metadata": {},
   "source": [
    "**Q7) <br>\n",
    "Write a function prodDigits() that inputs a number & returns the product of digits of a number**"
   ]
  },
  {
   "cell_type": "code",
   "execution_count": 55,
   "id": "e643e165",
   "metadata": {},
   "outputs": [
    {
     "name": "stdout",
     "output_type": "stream",
     "text": [
      "6\n"
     ]
    }
   ],
   "source": [
    "from math import prod\n",
    "def prodDigits(n):\n",
    "    return prod(get_digits(n))\n",
    "\n",
    "print(prodDigits(23))"
   ]
  },
  {
   "cell_type": "markdown",
   "id": "d660acc0",
   "metadata": {},
   "source": [
    "**Q8) <br>\n",
    "If all the digits of number are multiplied with each other repeating the product, the one digit number obtained at last is called the mmultiplicative digital root of n. The number of times digits need to be multiplied to reach one digit is called the multiplicative persistence of n\n",
    "<br>\n",
    "<br>\n",
    "Eg 86 -> 48 -> 32 -> 6 (MDR 6, MPersistence 3)<br>\n",
    "   341 -> 12 -> 2.     (MDR 2, MPersistence 2)<br>\n",
    "<br>\n",
    "Using function prodDigits(), write func MDR() & MPersistence() that inputs a number & returns its multiplicative digital root & multiplicative persistence respectively.**"
   ]
  },
  {
   "cell_type": "code",
   "execution_count": 56,
   "id": "26a55482",
   "metadata": {},
   "outputs": [
    {
     "name": "stdout",
     "output_type": "stream",
     "text": [
      "MDR :- 6, M-Persistence :- 3\n"
     ]
    }
   ],
   "source": [
    "def MDR(n):\n",
    "    '''\n",
    "    all digits of num multiply with each other & repeating phenomennon till 1 digit num is obtained\n",
    "    that 1 digit num is called as MDR\n",
    "    & \n",
    "    num of times you did phenomenon is called as MPersistence\n",
    "    86 -> 48 -> 32 -> 6 (MDR = 6, MPersistence = 3)\n",
    "    341 -> 12 -> 2 (MDR = 2, MPersistence = 2)\n",
    "\n",
    "    :return : (MDR, MPersistence)\n",
    "    '''\n",
    "    m_persistence = 0\n",
    "    while (n // 10) != 0:\n",
    "        n = prodDigits(n)\n",
    "        m_persistence += 1\n",
    "\n",
    "    return n, m_persistence\n",
    "\n",
    "mdr, m_per = MDR(86)\n",
    "print(f'MDR :- {mdr}, M-Persistence :- {m_per}')"
   ]
  },
  {
   "cell_type": "markdown",
   "id": "5ea51043",
   "metadata": {},
   "source": [
    "**Q9) <br>\n",
    "Write a function sumPdivisors() that find the sum of proper divisors of a number. Proper divisors of numbers are those numbers by which number is divisible, except the number itself For Eg proper divisors of 36 are 1,2,3,4,6,9,12,18**"
   ]
  },
  {
   "cell_type": "code",
   "execution_count": 57,
   "id": "b7f611df",
   "metadata": {},
   "outputs": [
    {
     "name": "stdout",
     "output_type": "stream",
     "text": [
      "proper_divisors(n)= [1, 2, 18, 3, 12, 4, 9, 6]\n",
      "sumPdivisors(n)= 55\n"
     ]
    }
   ],
   "source": [
    "from math import isqrt\n",
    "\n",
    "def proper_divisors(n):\n",
    "    if n == 1: return []\n",
    "    e = isqrt(n)  # go till the sqrt(n)\n",
    "    ans = [1]\n",
    "    for i in range(2, e): \n",
    "        q, r = divmod(n, i)\n",
    "        if r == 0:\n",
    "            ans.extend([i, q])\n",
    "    \n",
    "    if e*e == n: # check for sqrt number ie e*e == n (to avoid duplicates it is kept as seperate check)\n",
    "        ans.append(e)\n",
    "    return ans\n",
    "\n",
    "def sumPdivisors(n):\n",
    "    return sum(proper_divisors(n))\n",
    "\n",
    "n = 36\n",
    "print(f'{proper_divisors(n)= }')\n",
    "print(f'{sumPdivisors(n)= }')"
   ]
  },
  {
   "cell_type": "markdown",
   "id": "e42cb7db",
   "metadata": {},
   "source": [
    "**Q10) <br>\n",
    "A number is called perfect number if sum of proper divisors of that number is equal to the number. For eg 28 is perfect number (ie 1 + 2 + 4 + 7 + 14 = 28). Write program to print all perfect number in given range.**"
   ]
  },
  {
   "cell_type": "code",
   "execution_count": 58,
   "id": "40226af3",
   "metadata": {},
   "outputs": [
    {
     "name": "stdout",
     "output_type": "stream",
     "text": [
      "[28, 496]\n"
     ]
    }
   ],
   "source": [
    "def is_perfect_num(n):\n",
    "    return n == sumPdivisors(n)\n",
    "\n",
    "def all_perfect_num(n):\n",
    "    return [*filter(is_perfect_num, range(1, n+1))]\n",
    "\n",
    "print(all_perfect_num(1000))"
   ]
  },
  {
   "cell_type": "markdown",
   "id": "d42589fa",
   "metadata": {},
   "source": [
    "**Q11) <br>\n",
    "    2 diff numbers are called amicable numbers if the sum of proper divisors of each is equal to the other number. For Example 220 & 284 are amicable numbers.\n",
    "<br>\n",
    "Sum of Proper divisors of 220 = 1+2+4+5+10+11+20+22+44+55+110 = 284\n",
    "Sum of proper divisors of 284 = 1+2+4+71+142 = 220\n",
    "Write a program to print pairs of amicable numbers in the range.**"
   ]
  },
  {
   "cell_type": "code",
   "execution_count": 59,
   "id": "fa8b89bd",
   "metadata": {},
   "outputs": [
    {
     "name": "stdout",
     "output_type": "stream",
     "text": [
      "[(220, 284)]\n"
     ]
    }
   ],
   "source": [
    "from itertools import combinations, starmap, compress\n",
    "\n",
    "def is_amicable_pair(n1, n2):\n",
    "    return sumPdivisors(n1) == n2 and sumPdivisors(n2) == n1 \n",
    "\n",
    "def all_amicable_pair(l):\n",
    "    *pairs, = combinations(l, 2)  # need to convert iterator -> list as pairs is used twice in below line\n",
    "    return [*compress(pairs, starmap(is_amicable_pair, pairs))]\n",
    "\n",
    "print(all_amicable_pair(range(1,1000)))"
   ]
  },
  {
   "cell_type": "markdown",
   "id": "c2264aca",
   "metadata": {},
   "source": [
    "**Q12)\n",
    "<br>\n",
    "Write a program that can filter odd nums in list using filter function**"
   ]
  },
  {
   "cell_type": "code",
   "execution_count": 60,
   "id": "2d92a4d3",
   "metadata": {},
   "outputs": [
    {
     "name": "stdout",
     "output_type": "stream",
     "text": [
      "[1, 3, 5, 7, 9]\n"
     ]
    }
   ],
   "source": [
    "from operator import methodcaller\n",
    "\n",
    "def filter_odd_nums(l):\n",
    "    #return filter(lambda x: x & 1, l)\n",
    "    return [*filter(methodcaller('__rand__', 1), l)]\n",
    "\n",
    "print(filter_odd_nums(range(1, 10)))"
   ]
  },
  {
   "cell_type": "markdown",
   "id": "0aaede63",
   "metadata": {},
   "source": [
    "**Q13)\n",
    "<br>\n",
    "Write a program that can map nums in list to cube of themselves**"
   ]
  },
  {
   "cell_type": "code",
   "execution_count": 61,
   "id": "effa362e",
   "metadata": {},
   "outputs": [
    {
     "name": "stdout",
     "output_type": "stream",
     "text": [
      "[1, 8, 27, 64, 125, 216, 343, 512, 729]\n"
     ]
    }
   ],
   "source": [
    "def cube_all(l):\n",
    "    #return map(lambda x: x**3, l)\n",
    "    return map(methodcaller('__pow__', 3), l)\n",
    "\n",
    "print([*cube_all(range(1, 10))])"
   ]
  },
  {
   "cell_type": "markdown",
   "id": "b9467331",
   "metadata": {},
   "source": [
    "**Q14)\n",
    "<br>\n",
    "Write a program that can map & filter to make a list whose elements are cube of even number in a given list**"
   ]
  },
  {
   "cell_type": "code",
   "execution_count": 62,
   "id": "fa4dfeef",
   "metadata": {},
   "outputs": [
    {
     "name": "stdout",
     "output_type": "stream",
     "text": [
      "[2, 4, 6, 8]\n"
     ]
    }
   ],
   "source": [
    "from itertools import filterfalse\n",
    "def filter_even_nums(l):\n",
    "    #return filter(lambda x: not(x & 1), l)\n",
    "    return filterfalse(methodcaller('__rand__', 1), l)\n",
    "\n",
    "print([*filter_even_nums(range(1, 10))])"
   ]
  }
 ],
 "metadata": {
  "kernelspec": {
   "display_name": "Python 3",
   "language": "python",
   "name": "python3"
  },
  "language_info": {
   "codemirror_mode": {
    "name": "ipython",
    "version": 3
   },
   "file_extension": ".py",
   "mimetype": "text/x-python",
   "name": "python",
   "nbconvert_exporter": "python",
   "pygments_lexer": "ipython3",
   "version": "3.8.8"
  }
 },
 "nbformat": 4,
 "nbformat_minor": 5
}
